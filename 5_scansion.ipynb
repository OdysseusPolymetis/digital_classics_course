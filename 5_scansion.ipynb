{
  "nbformat": 4,
  "nbformat_minor": 0,
  "metadata": {
    "colab": {
      "provenance": [],
      "authorship_tag": "ABX9TyOzqk+XPyScgADmvexAKIwe",
      "include_colab_link": true
    },
    "kernelspec": {
      "name": "python3",
      "display_name": "Python 3"
    },
    "language_info": {
      "name": "python"
    }
  },
  "cells": [
    {
      "cell_type": "markdown",
      "metadata": {
        "id": "view-in-github",
        "colab_type": "text"
      },
      "source": [
        "<a href=\"https://colab.research.google.com/github/OdysseusPolymetis/digital_classics_course/blob/main/5_scansion.ipynb\" target=\"_parent\"><img src=\"https://colab.research.google.com/assets/colab-badge.svg\" alt=\"Open In Colab\"/></a>"
      ]
    },
    {
      "cell_type": "code",
      "execution_count": null,
      "metadata": {
        "id": "F5jpTGbkNAoq"
      },
      "outputs": [],
      "source": [
        "!pip install cltk"
      ]
    },
    {
      "cell_type": "code",
      "source": [
        "import logging\n",
        "\n",
        "logging.basicConfig(level=logging.WARNING)"
      ],
      "metadata": {
        "id": "FpgCxRokFxbo"
      },
      "execution_count": 5,
      "outputs": []
    },
    {
      "cell_type": "code",
      "source": [
        "from cltk.prosody.lat.scanner import Scansion"
      ],
      "metadata": {
        "id": "PFbvX2K-NHoh"
      },
      "execution_count": null,
      "outputs": []
    },
    {
      "cell_type": "code",
      "source": [
        "Scansion().scan_text('dedērunt te miror antōnī quorum. sī quid est in mē ingenī jūdicēs quod sentiō.')"
      ],
      "metadata": {
        "colab": {
          "base_uri": "https://localhost:8080/"
        },
        "id": "WRNM_JZoNVfx",
        "outputId": "8830d278-7058-469f-fc17-4e626d97e596"
      },
      "execution_count": null,
      "outputs": [
        {
          "output_type": "execute_result",
          "data": {
            "text/plain": [
              "['u--uuu---ux', 'u---u--u---ux']"
            ]
          },
          "metadata": {},
          "execution_count": 3
        }
      ]
    },
    {
      "cell_type": "code",
      "source": [
        "from cltk.prosody.grc import Scansion"
      ],
      "metadata": {
        "id": "5rlNY2OsNWoo"
      },
      "execution_count": 1,
      "outputs": []
    },
    {
      "cell_type": "code",
      "source": [
        "texte = \"\"\"\n",
        "Ἄνδρα μοι ἔννεπε, Μοῦσα, πολύτροπον, ὃς μάλα πολλὰ\n",
        "πλάγχθη, ἐπεὶ Τροίης ἱερὸν πτολίεθρον ἔπερσε,\n",
        "πολλῶν δ´ ἀνθρώπων ἴδεν ἄστεα καὶ νόον ἔγνω,\n",
        "πολλὰ δ´ ὅ γ´ ἐν πόντῳ πάθεν ἄλγεα ὃν κατὰ θυμόν,\n",
        "ἀρνύμενος ἥν τε ψυχὴν καὶ νόστον ἑταίρων.\n",
        "ἀλλ´ οὐδ´ ὧς ἑτάρους ἐρρύσατο, ἱέμενός περ.\n",
        "\"\"\"\n",
        "\n",
        "scanner = Scansion()\n",
        "\n",
        "verses = texte.strip().split('\\n')\n",
        "\n",
        "resultats_scansion = []\n",
        "\n",
        "for vers in verses:\n",
        "    scanned = scanner.scan_text(vers+\".\")\n",
        "    resultats_scansion.append(scanned)\n",
        "\n",
        "for i, resultat in enumerate(resultats_scansion):\n",
        "    print(f\"Vers {i+1}: {resultat}\")"
      ],
      "metadata": {
        "colab": {
          "base_uri": "https://localhost:8080/"
        },
        "id": "OhOp47ACN3Ir",
        "outputId": "85a279b8-20c0-47c5-89fc-6edef6338c8f"
      },
      "execution_count": 9,
      "outputs": [
        {
          "output_type": "stream",
          "name": "stderr",
          "text": [
            "INFO:CLTK:IndexError while checking if syllable 'λλα' is long. Continuing.\n",
            "INFO:CLTK:IndexError while checking if syllable 'ρσε' is long. Continuing.\n",
            "INFO:CLTK:IndexError while making syllables of 'δ´'. Continuing.\n",
            "INFO:CLTK:IndexError while checking if syllable 'γνω' is long. Continuing.\n",
            "INFO:CLTK:IndexError while making syllables of 'δ´'. Continuing.\n",
            "INFO:CLTK:IndexError while making syllables of 'γ´'. Continuing.\n",
            "INFO:CLTK:IndexError while checking if syllable 'θυμόν' is long. Continuing.\n",
            "INFO:CLTK:IndexError while checking if syllable 'ίρων' is long. Continuing.\n",
            "INFO:CLTK:IndexError while checking if syllable 'περ' is long. Continuing.\n"
          ]
        },
        {
          "output_type": "stream",
          "name": "stdout",
          "text": [
            "Vers 1: ['¯˘¯¯˘˘¯˘˘˘˘¯˘˘x']\n",
            "Vers 2: ['¯˘¯˘¯˘˘¯˘˘˘˘¯x']\n",
            "Vers 3: ['˘¯¯¯˘˘¯˘¯¯˘˘x']\n",
            "Vers 4: ['˘˘˘¯¯˘¯˘¯¯˘˘x']\n",
            "Vers 5: ['¯˘˘¯¯˘¯¯˘˘˘x']\n",
            "Vers 6: ['˘˘¯˘˘˘˘˘˘¯x']\n"
          ]
        }
      ]
    },
    {
      "cell_type": "code",
      "source": [
        "!git clone https://github.com/cltk/grc_text_tesserae.git"
      ],
      "metadata": {
        "colab": {
          "base_uri": "https://localhost:8080/"
        },
        "id": "JzfWRBo39ciY",
        "outputId": "d8722800-7583-4db2-bef2-41101727f7c5"
      },
      "execution_count": null,
      "outputs": [
        {
          "output_type": "stream",
          "name": "stdout",
          "text": [
            "Cloning into 'grc_text_tesserae'...\n",
            "remote: Enumerating objects: 1235, done.\u001b[K\n",
            "remote: Counting objects: 100% (18/18), done.\u001b[K\n",
            "remote: Compressing objects: 100% (18/18), done.\u001b[K\n",
            "remote: Total 1235 (delta 0), reused 0 (delta 0), pack-reused 1217\u001b[K\n",
            "Receiving objects: 100% (1235/1235), 34.61 MiB | 25.37 MiB/s, done.\n",
            "Resolving deltas: 100% (365/365), done.\n"
          ]
        }
      ]
    },
    {
      "cell_type": "code",
      "source": [
        "import os\n",
        "import re\n",
        "from collections import Counter\n",
        "\n",
        "scanner = Scansion()\n",
        "\n",
        "dossier = \"/content/grc_text_tesserae/texts\"\n",
        "fichiers = [f for f in os.listdir(dossier) if f.endswith('.tess') and \"homer\" in f.lower()]\n",
        "\n",
        "scansions = []\n",
        "\n",
        "for fichier in fichiers:\n",
        "    with open(os.path.join(dossier, fichier), 'r', encoding='utf-8') as f:\n",
        "        for ligne in f:\n",
        "            vers_propre = re.sub(r'<[^>]+>', '', ligne).strip() + '.'\n",
        "\n",
        "            try:\n",
        "                scanned_vers = scanner.scan_text(vers_propre)\n",
        "                scansions.extend(scanned_vers)\n",
        "            except Exception as e:\n",
        "                print(f\"Erreur de scansion pour le vers : {vers_propre}\")\n",
        "                print(e)\n",
        "\n",
        "scansion_counter = Counter(scansions)\n",
        "cinq_plus_frequents = scansion_counter.most_common(5)\n",
        "\n",
        "for scansion, freq in cinq_plus_frequents:\n",
        "    print(f\"Scansion: {scansion}, Fréquence: {freq}\")\n"
      ],
      "metadata": {
        "id": "qPFekxgo-Xre"
      },
      "execution_count": null,
      "outputs": []
    },
    {
      "cell_type": "code",
      "source": [
        "list_of_sentences=['dedērunt te miror antōnī quorum. sī quid est in mē ingenī jūdicēs quod sentiō.', 'dedērunt te miror antōnī quorum. sī quid est in mē ingenī jūdicēs quod sentiō.']"
      ],
      "metadata": {
        "id": "EPV8iJFIN9e-"
      },
      "execution_count": null,
      "outputs": []
    },
    {
      "cell_type": "code",
      "source": [
        "len(list_of_sentences)"
      ],
      "metadata": {
        "colab": {
          "base_uri": "https://localhost:8080/"
        },
        "id": "lvK-_6v88k8w",
        "outputId": "42a0adb1-988d-45aa-d22b-f314e9ca8cbc"
      },
      "execution_count": null,
      "outputs": [
        {
          "output_type": "execute_result",
          "data": {
            "text/plain": [
              "2"
            ]
          },
          "metadata": {},
          "execution_count": 12
        }
      ]
    },
    {
      "cell_type": "code",
      "source": [
        "for phrase in list_of_sentences:\n",
        "  result=Scansion().scan_text(phrase)\n",
        "  print(result)"
      ],
      "metadata": {
        "colab": {
          "base_uri": "https://localhost:8080/"
        },
        "id": "3nCn-y2g8SkB",
        "outputId": "ec7b268a-317f-4cd6-a888-b668dfcaf6bb"
      },
      "execution_count": null,
      "outputs": [
        {
          "output_type": "stream",
          "name": "stdout",
          "text": [
            "['u--uuu---ux', 'u---u--u---ux']\n",
            "['u--uuu---ux', 'u---u--u---ux']\n"
          ]
        }
      ]
    },
    {
      "cell_type": "code",
      "source": [
        "!git clone https://github.com/cltk/lat_text_latin_library.git"
      ],
      "metadata": {
        "id": "vGcfivx18dYH",
        "colab": {
          "base_uri": "https://localhost:8080/"
        },
        "outputId": "9a0b863f-927e-4f38-fa21-8841a6422a74"
      },
      "execution_count": 10,
      "outputs": [
        {
          "output_type": "stream",
          "name": "stdout",
          "text": [
            "Cloning into 'lat_text_latin_library'...\n",
            "remote: Enumerating objects: 3812, done.\u001b[K\n",
            "remote: Total 3812 (delta 0), reused 0 (delta 0), pack-reused 3812\u001b[K\n",
            "Receiving objects: 100% (3812/3812), 107.32 MiB | 28.63 MiB/s, done.\n",
            "Resolving deltas: 100% (1416/1416), done.\n"
          ]
        }
      ]
    },
    {
      "cell_type": "code",
      "source": [
        "from cltk.prosody.lat.hexameter_scanner import HexameterScanner"
      ],
      "metadata": {
        "id": "kDQTONJwId8H"
      },
      "execution_count": 29,
      "outputs": []
    },
    {
      "cell_type": "code",
      "source": [
        "def is_hexameter(scansion):\n",
        "    scansion_sans_espaces = re.sub(r'\\s+', '', scansion)\n",
        "\n",
        "    pieds = re.findall(r'(--|-U{0,2})', scansion_sans_espaces)\n",
        "\n",
        "    dernier_pied_ok = pieds[-1] in ['--', '-U']\n",
        "\n",
        "    return len(pieds) == 6 and dernier_pied_ok"
      ],
      "metadata": {
        "id": "0j4_PTBfOZxr"
      },
      "execution_count": 39,
      "outputs": []
    },
    {
      "cell_type": "code",
      "source": [
        "def nettoyer_vers(ligne):\n",
        "    vers_nettoye = re.sub(r'\\s*\\d+\\s*$', '', ligne).strip()\n",
        "    return vers_nettoye"
      ],
      "metadata": {
        "id": "bvEtllAiRtMW"
      },
      "execution_count": 32,
      "outputs": []
    },
    {
      "cell_type": "code",
      "source": [
        "from cltk.prosody.lat.hexameter_scanner import HexameterScanner\n",
        "import os\n",
        "\n",
        "scanner = HexameterScanner()\n",
        "\n",
        "dossier = \"/content/lat_text_latin_library/vergil\"\n",
        "fichiers = [f for f in os.listdir(dossier) if f.endswith('.txt') and \"aen\" in f.lower()]\n",
        "\n",
        "total_vers = 0\n",
        "for fichier in fichiers:\n",
        "    with open(os.path.join(dossier, fichier), 'r', encoding='utf-8') as f:\n",
        "        for ligne in f:\n",
        "            if ligne.strip():\n",
        "                total_vers += 1\n",
        "\n",
        "print(f\"Nombre total de vers à traiter: {total_vers}\")\n",
        "\n",
        "vers_et_scansions = []\n",
        "vers_traites = 0\n",
        "\n",
        "for fichier in fichiers:\n",
        "    with open(os.path.join(dossier, fichier), 'r', encoding='utf-8') as f:\n",
        "        for ligne in f:\n",
        "            ligne_propre = nettoyer_vers(ligne)\n",
        "            if ligne_propre:\n",
        "                try:\n",
        "                    scansion = scanner.scan(ligne_propre)\n",
        "                    scansion_corrige = scanner.correct_invalid_fifth_foot(scansion.scansion)\n",
        "                    scansion_corrige = scanner.correct_inverted_amphibrachs(scansion_corrige)\n",
        "                    if is_hexameter(scansion_corrige):\n",
        "                        vers_et_scansions.append((ligne_propre, scansion_corrige))\n",
        "                except Exception as e:\n",
        "                    print(f\"Erreur de scansion pour le vers : {ligne_propre}\")\n",
        "                    print(e)\n",
        "\n",
        "                vers_traites += 1\n",
        "\n",
        "print(f\"Tous les vers ont été traités. Total: {vers_traites}/{total_vers}\")"
      ],
      "metadata": {
        "id": "njgl86QGRlsS"
      },
      "execution_count": null,
      "outputs": []
    },
    {
      "cell_type": "code",
      "source": [
        "import random\n",
        "\n",
        "nombre_vers_a_afficher = min(5, len(vers_et_scansions))\n",
        "\n",
        "vers_choisis = random.sample(vers_et_scansions, nombre_vers_a_afficher)\n",
        "\n",
        "for vers, metrique in vers_choisis:\n",
        "    print(f\"Vers: {vers}\")\n",
        "    print(f\"Métrique: {metrique}\\n\")"
      ],
      "metadata": {
        "id": "PrjewANBTPb_"
      },
      "execution_count": null,
      "outputs": []
    },
    {
      "cell_type": "code",
      "source": [
        "from collections import Counter\n",
        "\n",
        "def normaliser_scansion(scansion):\n",
        "    return re.sub(r'[^-U]', '', scansion)\n",
        "\n",
        "hexametres_normalises = [normaliser_scansion(scansion) for vers, scansion in vers_et_scansions]\n",
        "\n",
        "compteur_hexametres = Counter(hexametres_normalises)\n",
        "\n",
        "trois_plus_frequents = compteur_hexametres.most_common(3)\n",
        "\n",
        "for scansion, nombre in trois_plus_frequents:\n",
        "    print(f\"Scansion: {scansion}, Occurrences: {nombre}\")"
      ],
      "metadata": {
        "colab": {
          "base_uri": "https://localhost:8080/"
        },
        "id": "nF94-2UWU1Dt",
        "outputId": "f1651b96-4457-4d18-e9af-d97a39b79458"
      },
      "execution_count": 45,
      "outputs": [
        {
          "output_type": "stream",
          "name": "stdout",
          "text": [
            "Scansion: -UU-UU-UU-UU-UU-U, Occurrences: 638\n",
            "Scansion: -UU-------UU-U, Occurrences: 556\n",
            "Scansion: ---------UU-U, Occurrences: 530\n"
          ]
        }
      ]
    },
    {
      "cell_type": "code",
      "source": [],
      "metadata": {
        "id": "MRYsPEgVXnlM"
      },
      "execution_count": null,
      "outputs": []
    }
  ]
}