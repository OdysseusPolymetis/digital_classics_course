{
  "nbformat": 4,
  "nbformat_minor": 0,
  "metadata": {
    "colab": {
      "provenance": [],
      "authorship_tag": "ABX9TyMcQtEgY1AVxcKD6FIm0kDM",
      "include_colab_link": true
    },
    "kernelspec": {
      "name": "python3",
      "display_name": "Python 3"
    },
    "language_info": {
      "name": "python"
    }
  },
  "cells": [
    {
      "cell_type": "markdown",
      "metadata": {
        "id": "view-in-github",
        "colab_type": "text"
      },
      "source": [
        "<a href=\"https://colab.research.google.com/github/OdysseusPolymetis/digital_classics_course/blob/main/5_scansion.ipynb\" target=\"_parent\"><img src=\"https://colab.research.google.com/assets/colab-badge.svg\" alt=\"Open In Colab\"/></a>"
      ]
    },
    {
      "cell_type": "code",
      "execution_count": null,
      "metadata": {
        "id": "F5jpTGbkNAoq"
      },
      "outputs": [],
      "source": [
        "!pip install cltk"
      ]
    },
    {
      "cell_type": "code",
      "source": [
        "import logging\n",
        "\n",
        "logging.basicConfig(level=logging.WARNING)\n",
        "logging.getLogger('CLTK').setLevel(logging.WARNING)"
      ],
      "metadata": {
        "id": "FpgCxRokFxbo"
      },
      "execution_count": 19,
      "outputs": []
    },
    {
      "cell_type": "code",
      "source": [
        "from cltk.prosody.lat.scanner import Scansion"
      ],
      "metadata": {
        "id": "PFbvX2K-NHoh"
      },
      "execution_count": 2,
      "outputs": []
    },
    {
      "cell_type": "code",
      "source": [
        "Scansion().scan_text('dedērunt te miror antōnī quorum. sī quid est in mē ingenī jūdicēs quod sentiō.')"
      ],
      "metadata": {
        "colab": {
          "base_uri": "https://localhost:8080/"
        },
        "id": "WRNM_JZoNVfx",
        "outputId": "0fe16178-7e12-4493-dfe4-eea83997987d"
      },
      "execution_count": null,
      "outputs": [
        {
          "output_type": "execute_result",
          "data": {
            "text/plain": [
              "['u--uuu---ux', 'u---u--u---ux']"
            ]
          },
          "metadata": {},
          "execution_count": 4
        }
      ]
    },
    {
      "cell_type": "code",
      "source": [
        "from cltk.prosody.grc import Scansion"
      ],
      "metadata": {
        "id": "5rlNY2OsNWoo"
      },
      "execution_count": 3,
      "outputs": []
    },
    {
      "cell_type": "code",
      "source": [
        "texte = \"\"\"\n",
        "Ἄνδρα μοι ἔννεπε, Μοῦσα, πολύτροπον, ὃς μάλα πολλὰ\n",
        "πλάγχθη, ἐπεὶ Τροίης ἱερὸν πτολίεθρον ἔπερσε,\n",
        "πολλῶν δ´ ἀνθρώπων ἴδεν ἄστεα καὶ νόον ἔγνω,\n",
        "πολλὰ δ´ ὅ γ´ ἐν πόντῳ πάθεν ἄλγεα ὃν κατὰ θυμόν,\n",
        "ἀρνύμενος ἥν τε ψυχὴν καὶ νόστον ἑταίρων.\n",
        "ἀλλ´ οὐδ´ ὧς ἑτάρους ἐρρύσατο, ἱέμενός περ.\n",
        "\"\"\"\n",
        "\n",
        "scanner = Scansion()\n",
        "\n",
        "verses = texte.strip().split('\\n')\n",
        "\n",
        "resultats_scansion = []\n",
        "\n",
        "for vers in verses:\n",
        "    scanned = scanner.scan_text(vers+\".\")\n",
        "    resultats_scansion.append(scanned)\n",
        "\n",
        "for i, resultat in enumerate(resultats_scansion):\n",
        "    print(f\"Vers {i+1}: {resultat}\")"
      ],
      "metadata": {
        "colab": {
          "base_uri": "https://localhost:8080/"
        },
        "id": "OhOp47ACN3Ir",
        "outputId": "f99ae5ca-b5c9-4aea-d4d6-251d88335234"
      },
      "execution_count": null,
      "outputs": [
        {
          "output_type": "stream",
          "name": "stderr",
          "text": [
            "INFO:CLTK:IndexError while checking if syllable 'λλα' is long. Continuing.\n",
            "INFO:CLTK:IndexError while checking if syllable 'ρσε' is long. Continuing.\n",
            "INFO:CLTK:IndexError while making syllables of 'δ´'. Continuing.\n",
            "INFO:CLTK:IndexError while checking if syllable 'γνω' is long. Continuing.\n",
            "INFO:CLTK:IndexError while making syllables of 'δ´'. Continuing.\n",
            "INFO:CLTK:IndexError while making syllables of 'γ´'. Continuing.\n",
            "INFO:CLTK:IndexError while checking if syllable 'θυμόν' is long. Continuing.\n",
            "INFO:CLTK:IndexError while checking if syllable 'ίρων' is long. Continuing.\n",
            "INFO:CLTK:IndexError while checking if syllable 'περ' is long. Continuing.\n"
          ]
        },
        {
          "output_type": "stream",
          "name": "stdout",
          "text": [
            "Vers 1: ['¯˘¯¯˘˘¯˘˘˘˘¯˘¯x']\n",
            "Vers 2: ['¯˘¯˘¯˘˘¯˘¯˘˘¯x']\n",
            "Vers 3: ['¯¯¯¯˘˘¯˘˘¯˘¯x']\n",
            "Vers 4: ['¯˘˘¯¯˘¯˘˘¯˘˘x']\n",
            "Vers 5: ['¯˘˘¯¯˘¯¯˘˘˘x']\n",
            "Vers 6: ['˘˘¯˘˘¯˘˘˘¯x']\n"
          ]
        }
      ]
    },
    {
      "cell_type": "code",
      "source": [
        "!git clone https://github.com/cltk/grc_text_tesserae.git"
      ],
      "metadata": {
        "id": "JzfWRBo39ciY"
      },
      "execution_count": null,
      "outputs": []
    },
    {
      "cell_type": "markdown",
      "source": [
        "Cette partie peut être plus longue, on lui demande de scander tout Homère et de trouver les 5 types de scansion les plus fréquents."
      ],
      "metadata": {
        "id": "Cd3Hj-46dYEH"
      }
    },
    {
      "cell_type": "code",
      "source": [
        "import os\n",
        "import re\n",
        "from collections import Counter\n",
        "\n",
        "scanner = Scansion()\n",
        "\n",
        "dossier = \"/content/grc_text_tesserae/texts\"\n",
        "fichiers = [f for f in os.listdir(dossier) if f.endswith('.tess') and \"homer\" in f.lower()]\n",
        "\n",
        "scansions = []\n",
        "\n",
        "for fichier in fichiers:\n",
        "    print(f\"Traitement du fichier : {fichier}\")\n",
        "    with open(os.path.join(dossier, fichier), 'r', encoding='utf-8') as f:\n",
        "        for ligne in f:\n",
        "            vers_propre = re.sub(r'<[^>]+>', '', ligne).strip() + '.'\n",
        "\n",
        "            try:\n",
        "                scanned_vers = scanner.scan_text(vers_propre)\n",
        "                scansions.extend(scanned_vers)\n",
        "            except Exception as e:\n",
        "                print(f\"Erreur de scansion pour le vers : {vers_propre}\")\n",
        "                print(e)\n",
        "\n",
        "scansion_counter = Counter(scansions)\n",
        "cinq_plus_frequents = scansion_counter.most_common(5)\n",
        "\n",
        "for scansion, freq in cinq_plus_frequents:\n",
        "    print(f\"Scansion: {scansion}, Fréquence: {freq}\")\n"
      ],
      "metadata": {
        "id": "qPFekxgo-Xre",
        "colab": {
          "base_uri": "https://localhost:8080/"
        },
        "outputId": "a5a7de7b-9260-4ce9-af0a-ee44089ca585"
      },
      "execution_count": 20,
      "outputs": [
        {
          "output_type": "stream",
          "name": "stdout",
          "text": [
            "Traitement du fichier : homer.odyssey.part.8.tess\n",
            "Traitement du fichier : homer.odyssey.part.3.tess\n",
            "Traitement du fichier : homer.iliad.part.5.tess\n",
            "Traitement du fichier : homer.iliad.part.10.tess\n",
            "Traitement du fichier : homer.odyssey.part.18.tess\n",
            "Traitement du fichier : homer.iliad.part.24.tess\n",
            "Traitement du fichier : homer.iliad.part.15.tess\n",
            "Traitement du fichier : homer.odyssey.part.14.tess\n",
            "Traitement du fichier : homer.iliad.part.3.tess\n",
            "Traitement du fichier : homer.odyssey.part.9.tess\n",
            "Traitement du fichier : homer.odyssey.part.19.tess\n",
            "Traitement du fichier : homer.odyssey.part.4.tess\n",
            "Traitement du fichier : homer.odyssey.part.5.tess\n",
            "Traitement du fichier : homer.odyssey.part.22.tess\n",
            "Traitement du fichier : homer.iliad.part.17.tess\n",
            "Traitement du fichier : homer.iliad.part.8.tess\n",
            "Traitement du fichier : homer.odyssey.part.24.tess\n",
            "Traitement du fichier : homer.odyssey.part.23.tess\n",
            "Traitement du fichier : homer.iliad.part.23.tess\n",
            "Traitement du fichier : homer.odyssey.part.10.tess\n",
            "Traitement du fichier : homer.iliad.part.19.tess\n",
            "Traitement du fichier : homer.iliad.part.9.tess\n",
            "Traitement du fichier : homer.odyssey.part.16.tess\n",
            "Traitement du fichier : homer.odyssey.part.6.tess\n",
            "Traitement du fichier : homer.iliad.part.4.tess\n",
            "Traitement du fichier : homer.odyssey.part.1.tess\n",
            "Traitement du fichier : homer.iliad.part.2.tess\n",
            "Traitement du fichier : homer.odyssey.part.7.tess\n",
            "Traitement du fichier : homer.odyssey.part.13.tess\n",
            "Traitement du fichier : homer.odyssey.part.11.tess\n",
            "Traitement du fichier : homer.odyssey.part.20.tess\n",
            "Traitement du fichier : homer.iliad.part.12.tess\n",
            "Traitement du fichier : homer.iliad.part.22.tess\n",
            "Traitement du fichier : homer.iliad.part.6.tess\n",
            "Traitement du fichier : homer.odyssey.part.12.tess\n",
            "Traitement du fichier : homer.iliad.part.11.tess\n",
            "Traitement du fichier : homer.odyssey.part.2.tess\n",
            "Traitement du fichier : homer.odyssey.part.21.tess\n",
            "Traitement du fichier : homer.iliad.part.18.tess\n",
            "Traitement du fichier : homer.iliad.part.16.tess\n",
            "Traitement du fichier : homer.iliad.part.21.tess\n",
            "Traitement du fichier : homer.iliad.part.14.tess\n",
            "Traitement du fichier : homer.iliad.part.1.tess\n",
            "Traitement du fichier : homer.iliad.part.13.tess\n",
            "Traitement du fichier : homer.odyssey.part.15.tess\n",
            "Traitement du fichier : homer.iliad.part.20.tess\n",
            "Traitement du fichier : homer.iliad.part.7.tess\n",
            "Traitement du fichier : homer.odyssey.part.17.tess\n",
            "Scansion: , Fréquence: 2234\n",
            "Scansion: ¯˘˘¯x, Fréquence: 301\n",
            "Scansion: ¯˘˘x, Fréquence: 212\n",
            "Scansion: ˘˘˘¯x, Fréquence: 200\n",
            "Scansion: ˘˘x, Fréquence: 195\n"
          ]
        }
      ]
    },
    {
      "cell_type": "code",
      "source": [
        "list_of_sentences=['dedērunt te miror antōnī quorum. sī quid est in mē ingenī jūdicēs quod sentiō.', 'dedērunt te miror antōnī quorum. sī quid est in mē ingenī jūdicēs quod sentiō.']"
      ],
      "metadata": {
        "id": "EPV8iJFIN9e-"
      },
      "execution_count": 21,
      "outputs": []
    },
    {
      "cell_type": "code",
      "source": [
        "len(list_of_sentences)"
      ],
      "metadata": {
        "id": "lvK-_6v88k8w",
        "colab": {
          "base_uri": "https://localhost:8080/"
        },
        "outputId": "208b4258-7de0-4775-aa03-7e3ae51b54b5"
      },
      "execution_count": 22,
      "outputs": [
        {
          "output_type": "execute_result",
          "data": {
            "text/plain": [
              "2"
            ]
          },
          "metadata": {},
          "execution_count": 22
        }
      ]
    },
    {
      "cell_type": "code",
      "source": [
        "from cltk.prosody.lat.scanner import Scansion"
      ],
      "metadata": {
        "id": "RVT2sf_lg54_"
      },
      "execution_count": 24,
      "outputs": []
    },
    {
      "cell_type": "code",
      "source": [
        "for phrase in list_of_sentences:\n",
        "  result=Scansion().scan_text(phrase)\n",
        "  print(result)"
      ],
      "metadata": {
        "id": "3nCn-y2g8SkB",
        "colab": {
          "base_uri": "https://localhost:8080/"
        },
        "outputId": "0c4ea0d0-8514-4677-b2cc-aaabf3325d7a"
      },
      "execution_count": 25,
      "outputs": [
        {
          "output_type": "stream",
          "name": "stdout",
          "text": [
            "['u--uuu---ux', 'u---u--u---ux']\n",
            "['u--uuu---ux', 'u---u--u---ux']\n"
          ]
        }
      ]
    },
    {
      "cell_type": "code",
      "source": [
        "!git clone https://github.com/cltk/lat_text_latin_library.git"
      ],
      "metadata": {
        "id": "vGcfivx18dYH"
      },
      "execution_count": null,
      "outputs": []
    },
    {
      "cell_type": "code",
      "source": [
        "from cltk.prosody.lat.hexameter_scanner import HexameterScanner"
      ],
      "metadata": {
        "id": "kDQTONJwId8H"
      },
      "execution_count": null,
      "outputs": []
    },
    {
      "cell_type": "code",
      "source": [
        "def is_hexameter(scansion):\n",
        "    scansion_sans_espaces = re.sub(r'\\s+', '', scansion)\n",
        "\n",
        "    pieds = re.findall(r'(--|-U{0,2})', scansion_sans_espaces)\n",
        "\n",
        "    dernier_pied_ok = pieds[-1] in ['--', '-U']\n",
        "\n",
        "    return len(pieds) == 6 and dernier_pied_ok"
      ],
      "metadata": {
        "id": "0j4_PTBfOZxr"
      },
      "execution_count": null,
      "outputs": []
    },
    {
      "cell_type": "code",
      "source": [
        "def nettoyer_vers(ligne):\n",
        "    vers_nettoye = re.sub(r'\\s*\\d+\\s*$', '', ligne).strip()\n",
        "    return vers_nettoye"
      ],
      "metadata": {
        "id": "bvEtllAiRtMW"
      },
      "execution_count": null,
      "outputs": []
    },
    {
      "cell_type": "code",
      "source": [
        "from cltk.prosody.lat.hexameter_scanner import HexameterScanner\n",
        "import os\n",
        "\n",
        "scanner = HexameterScanner()\n",
        "\n",
        "dossier = \"/content/lat_text_latin_library/vergil\"\n",
        "fichiers = [f for f in os.listdir(dossier) if f.endswith('.txt') and \"aen\" in f.lower()]\n",
        "\n",
        "total_vers = 0\n",
        "for fichier in fichiers:\n",
        "    with open(os.path.join(dossier, fichier), 'r', encoding='utf-8') as f:\n",
        "        for ligne in f:\n",
        "            if ligne.strip():\n",
        "                total_vers += 1\n",
        "\n",
        "print(f\"Nombre total de vers à traiter: {total_vers}\")\n",
        "\n",
        "vers_et_scansions = []\n",
        "vers_traites = 0\n",
        "\n",
        "for fichier in fichiers:\n",
        "    with open(os.path.join(dossier, fichier), 'r', encoding='utf-8') as f:\n",
        "        for ligne in f:\n",
        "            ligne_propre = nettoyer_vers(ligne)\n",
        "            if ligne_propre:\n",
        "                try:\n",
        "                    scansion = scanner.scan(ligne_propre)\n",
        "                    scansion_corrige = scanner.correct_invalid_fifth_foot(scansion.scansion)\n",
        "                    scansion_corrige = scanner.correct_inverted_amphibrachs(scansion_corrige)\n",
        "                    if is_hexameter(scansion_corrige):\n",
        "                        vers_et_scansions.append((ligne_propre, scansion_corrige))\n",
        "                except Exception as e:\n",
        "                    print(f\"Erreur de scansion pour le vers : {ligne_propre}\")\n",
        "                    print(e)\n",
        "\n",
        "                vers_traites += 1\n",
        "\n",
        "print(f\"Tous les vers ont été traités. Total: {vers_traites}/{total_vers}\")"
      ],
      "metadata": {
        "id": "njgl86QGRlsS"
      },
      "execution_count": null,
      "outputs": []
    },
    {
      "cell_type": "code",
      "source": [
        "import random\n",
        "\n",
        "nombre_vers_a_afficher = min(5, len(vers_et_scansions))\n",
        "\n",
        "vers_choisis = random.sample(vers_et_scansions, nombre_vers_a_afficher)\n",
        "\n",
        "for vers, metrique in vers_choisis:\n",
        "    print(f\"Vers: {vers}\")\n",
        "    print(f\"Métrique: {metrique}\\n\")"
      ],
      "metadata": {
        "id": "PrjewANBTPb_"
      },
      "execution_count": null,
      "outputs": []
    },
    {
      "cell_type": "code",
      "source": [
        "from collections import Counter\n",
        "\n",
        "def normaliser_scansion(scansion):\n",
        "    return re.sub(r'[^-U]', '', scansion)\n",
        "\n",
        "hexametres_normalises = [normaliser_scansion(scansion) for vers, scansion in vers_et_scansions]\n",
        "\n",
        "compteur_hexametres = Counter(hexametres_normalises)\n",
        "\n",
        "trois_plus_frequents = compteur_hexametres.most_common(3)\n",
        "\n",
        "for scansion, nombre in trois_plus_frequents:\n",
        "    print(f\"Scansion: {scansion}, Occurrences: {nombre}\")"
      ],
      "metadata": {
        "id": "nF94-2UWU1Dt"
      },
      "execution_count": null,
      "outputs": []
    },
    {
      "cell_type": "code",
      "source": [],
      "metadata": {
        "id": "MRYsPEgVXnlM"
      },
      "execution_count": null,
      "outputs": []
    }
  ]
}