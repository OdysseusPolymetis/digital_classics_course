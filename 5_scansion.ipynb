{
  "nbformat": 4,
  "nbformat_minor": 0,
  "metadata": {
    "colab": {
      "provenance": [],
      "authorship_tag": "ABX9TyPm9ZO9jOiqiPCfxwJ1cTS+",
      "include_colab_link": true
    },
    "kernelspec": {
      "name": "python3",
      "display_name": "Python 3"
    },
    "language_info": {
      "name": "python"
    }
  },
  "cells": [
    {
      "cell_type": "markdown",
      "metadata": {
        "id": "view-in-github",
        "colab_type": "text"
      },
      "source": [
        "<a href=\"https://colab.research.google.com/github/OdysseusPolymetis/digital_classics_course/blob/main/5_scansion.ipynb\" target=\"_parent\"><img src=\"https://colab.research.google.com/assets/colab-badge.svg\" alt=\"Open In Colab\"/></a>"
      ]
    },
    {
      "cell_type": "code",
      "execution_count": null,
      "metadata": {
        "id": "F5jpTGbkNAoq"
      },
      "outputs": [],
      "source": [
        "!pip install cltk"
      ]
    },
    {
      "cell_type": "code",
      "source": [
        "from cltk.prosody.lat.scanner import Scansion"
      ],
      "metadata": {
        "id": "PFbvX2K-NHoh"
      },
      "execution_count": null,
      "outputs": []
    },
    {
      "cell_type": "code",
      "source": [
        "Scansion().scan_text('dedērunt te miror antōnī quorum. sī quid est in mē ingenī jūdicēs quod sentiō.')"
      ],
      "metadata": {
        "colab": {
          "base_uri": "https://localhost:8080/"
        },
        "id": "WRNM_JZoNVfx",
        "outputId": "8830d278-7058-469f-fc17-4e626d97e596"
      },
      "execution_count": null,
      "outputs": [
        {
          "output_type": "execute_result",
          "data": {
            "text/plain": [
              "['u--uuu---ux', 'u---u--u---ux']"
            ]
          },
          "metadata": {},
          "execution_count": 3
        }
      ]
    },
    {
      "cell_type": "code",
      "source": [
        "from cltk.prosody.grc import Scansion"
      ],
      "metadata": {
        "id": "5rlNY2OsNWoo"
      },
      "execution_count": null,
      "outputs": []
    },
    {
      "cell_type": "code",
      "source": [
        "texte = \"\"\"\n",
        "Ἄνδρα μοι ἔννεπε, Μοῦσα, πολύτροπον, ὃς μάλα πολλὰ\n",
        "πλάγχθη, ἐπεὶ Τροίης ἱερὸν πτολίεθρον ἔπερσε,\n",
        "πολλῶν δ´ ἀνθρώπων ἴδεν ἄστεα καὶ νόον ἔγνω,\n",
        "πολλὰ δ´ ὅ γ´ ἐν πόντῳ πάθεν ἄλγεα ὃν κατὰ θυμόν,\n",
        "ἀρνύμενος ἥν τε ψυχὴν καὶ νόστον ἑταίρων.\n",
        "ἀλλ´ οὐδ´ ὧς ἑτάρους ἐρρύσατο, ἱέμενός περ.\n",
        "\"\"\"\n",
        "\n",
        "scanner = Scansion()\n",
        "\n",
        "verses = texte.strip().split('\\n')\n",
        "\n",
        "resultats_scansion = []\n",
        "\n",
        "for vers in verses:\n",
        "    scanned = scanner.scan_text(vers+\".\")\n",
        "    resultats_scansion.append(scanned)\n",
        "\n",
        "for i, resultat in enumerate(resultats_scansion):\n",
        "    print(f\"Vers {i+1}: {resultat}\")"
      ],
      "metadata": {
        "colab": {
          "base_uri": "https://localhost:8080/"
        },
        "id": "OhOp47ACN3Ir",
        "outputId": "9fbf4d1b-348c-4028-8113-f93dcedfc26b"
      },
      "execution_count": null,
      "outputs": [
        {
          "output_type": "stream",
          "name": "stderr",
          "text": [
            "INFO:CLTK:IndexError while checking if syllable 'λλα' is long. Continuing.\n",
            "INFO:CLTK:IndexError while checking if syllable 'ρσε' is long. Continuing.\n",
            "INFO:CLTK:IndexError while making syllables of 'δ´'. Continuing.\n",
            "INFO:CLTK:IndexError while checking if syllable 'γνω' is long. Continuing.\n",
            "INFO:CLTK:IndexError while making syllables of 'δ´'. Continuing.\n",
            "INFO:CLTK:IndexError while making syllables of 'γ´'. Continuing.\n",
            "INFO:CLTK:IndexError while checking if syllable 'θυμόν' is long. Continuing.\n",
            "INFO:CLTK:IndexError while checking if syllable 'ίρων' is long. Continuing.\n",
            "INFO:CLTK:IndexError while checking if syllable 'περ' is long. Continuing.\n"
          ]
        },
        {
          "output_type": "stream",
          "name": "stdout",
          "text": [
            "Vers 1: ['¯˘¯¯˘˘¯˘˘˘˘¯˘˘x']\n",
            "Vers 2: ['¯˘¯˘¯˘˘¯˘˘˘˘¯x']\n",
            "Vers 3: ['˘¯¯¯˘˘¯˘¯¯˘˘x']\n",
            "Vers 4: ['˘˘˘¯¯˘¯˘¯¯˘˘x']\n",
            "Vers 5: ['¯˘˘¯¯˘¯¯˘˘˘x']\n",
            "Vers 6: ['˘˘¯˘˘˘˘˘˘¯x']\n"
          ]
        }
      ]
    },
    {
      "cell_type": "code",
      "source": [
        "!git clone https://github.com/cltk/grc_text_tesserae.git"
      ],
      "metadata": {
        "colab": {
          "base_uri": "https://localhost:8080/"
        },
        "id": "JzfWRBo39ciY",
        "outputId": "c55af764-d773-4f32-ec81-8f33bdacf7bf"
      },
      "execution_count": null,
      "outputs": [
        {
          "output_type": "stream",
          "name": "stdout",
          "text": [
            "Cloning into 'grc_text_tesserae'...\n",
            "remote: Enumerating objects: 1235, done.\u001b[K\n",
            "remote: Counting objects: 100% (18/18), done.\u001b[K\n",
            "remote: Compressing objects: 100% (18/18), done.\u001b[K\n",
            "remote: Total 1235 (delta 0), reused 0 (delta 0), pack-reused 1217\u001b[K\n",
            "Receiving objects: 100% (1235/1235), 34.61 MiB | 17.74 MiB/s, done.\n",
            "Resolving deltas: 100% (365/365), done.\n",
            "Updating files: 100% (826/826), done.\n"
          ]
        }
      ]
    },
    {
      "cell_type": "code",
      "source": [
        "import os\n",
        "import re\n",
        "from collections import Counter\n",
        "import logging\n",
        "\n",
        "logging.basicConfig(level=logging.WARNING)\n",
        "\n",
        "scanner = Scansion()\n",
        "\n",
        "dossier = \"/content/grc_text_tesserae/texts\"\n",
        "fichiers = [f for f in os.listdir(dossier) if f.endswith('.tess') and \"homer\" in f.lower()]\n",
        "\n",
        "scansions = []\n",
        "\n",
        "for fichier in fichiers:\n",
        "    with open(os.path.join(dossier, fichier), 'r', encoding='utf-8') as f:\n",
        "        for ligne in f:\n",
        "            vers_propre = re.sub(r'<[^>]+>', '', ligne).strip() + '.'\n",
        "\n",
        "            try:\n",
        "                scanned_vers = scanner.scan_text(vers_propre)\n",
        "                scansions.extend(scanned_vers)\n",
        "            except Exception as e:\n",
        "                print(f\"Erreur de scansion pour le vers : {vers_propre}\")\n",
        "                print(e)\n",
        "\n",
        "scansion_counter = Counter(scansions)\n",
        "cinq_plus_frequents = scansion_counter.most_common(5)\n",
        "\n",
        "for scansion, freq in cinq_plus_frequents:\n",
        "    print(f\"Scansion: {scansion}, Fréquence: {freq}\")\n"
      ],
      "metadata": {
        "id": "qPFekxgo-Xre"
      },
      "execution_count": null,
      "outputs": []
    },
    {
      "cell_type": "code",
      "source": [
        "list_of_sentences=['dedērunt te miror antōnī quorum. sī quid est in mē ingenī jūdicēs quod sentiō.', 'dedērunt te miror antōnī quorum. sī quid est in mē ingenī jūdicēs quod sentiō.']"
      ],
      "metadata": {
        "id": "EPV8iJFIN9e-"
      },
      "execution_count": null,
      "outputs": []
    },
    {
      "cell_type": "code",
      "source": [
        "len(list_of_sentences)"
      ],
      "metadata": {
        "colab": {
          "base_uri": "https://localhost:8080/"
        },
        "id": "lvK-_6v88k8w",
        "outputId": "42a0adb1-988d-45aa-d22b-f314e9ca8cbc"
      },
      "execution_count": null,
      "outputs": [
        {
          "output_type": "execute_result",
          "data": {
            "text/plain": [
              "2"
            ]
          },
          "metadata": {},
          "execution_count": 12
        }
      ]
    },
    {
      "cell_type": "code",
      "source": [
        "for phrase in list_of_sentences:\n",
        "  result=Scansion().scan_text(phrase)\n",
        "  print(result)"
      ],
      "metadata": {
        "colab": {
          "base_uri": "https://localhost:8080/"
        },
        "id": "3nCn-y2g8SkB",
        "outputId": "ec7b268a-317f-4cd6-a888-b668dfcaf6bb"
      },
      "execution_count": null,
      "outputs": [
        {
          "output_type": "stream",
          "name": "stdout",
          "text": [
            "['u--uuu---ux', 'u---u--u---ux']\n",
            "['u--uuu---ux', 'u---u--u---ux']\n"
          ]
        }
      ]
    },
    {
      "cell_type": "code",
      "source": [],
      "metadata": {
        "id": "vGcfivx18dYH"
      },
      "execution_count": null,
      "outputs": []
    }
  ]
}