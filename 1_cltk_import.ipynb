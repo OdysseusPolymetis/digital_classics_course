{
  "nbformat": 4,
  "nbformat_minor": 0,
  "metadata": {
    "colab": {
      "provenance": [],
      "authorship_tag": "ABX9TyPVb5OFEPkxx9eZNKTt4di1",
      "include_colab_link": true
    },
    "kernelspec": {
      "name": "python3",
      "display_name": "Python 3"
    },
    "language_info": {
      "name": "python"
    }
  },
  "cells": [
    {
      "cell_type": "markdown",
      "metadata": {
        "id": "view-in-github",
        "colab_type": "text"
      },
      "source": [
        "<a href=\"https://colab.research.google.com/github/OdysseusPolymetis/digital_classics_course/blob/main/1_cltk_import.ipynb\" target=\"_parent\"><img src=\"https://colab.research.google.com/assets/colab-badge.svg\" alt=\"Open In Colab\"/></a>"
      ]
    },
    {
      "cell_type": "code",
      "execution_count": null,
      "metadata": {
        "id": "M9A9qkOsmrPn"
      },
      "outputs": [],
      "source": [
        "!pip install cltk"
      ]
    },
    {
      "cell_type": "code",
      "source": [
        "from cltk.data.fetch import FetchCorpus as fetch"
      ],
      "metadata": {
        "id": "cJBWyCdHnC29"
      },
      "execution_count": 2,
      "outputs": []
    },
    {
      "cell_type": "code",
      "source": [
        "corpus_downloader = fetch(language=\"grc\")"
      ],
      "metadata": {
        "id": "AX_XVA71nTw8"
      },
      "execution_count": 3,
      "outputs": []
    },
    {
      "cell_type": "code",
      "source": [
        "corpus_downloader.list_corpora"
      ],
      "metadata": {
        "colab": {
          "base_uri": "https://localhost:8080/"
        },
        "id": "3Pnd3BGznc4N",
        "outputId": "98fd0fe8-cf7e-4e82-ebfe-c2591a20face"
      },
      "execution_count": 4,
      "outputs": [
        {
          "output_type": "execute_result",
          "data": {
            "text/plain": [
              "['grc_software_tlgu',\n",
              " 'grc_text_perseus',\n",
              " 'phi7',\n",
              " 'tlg',\n",
              " 'greek_proper_names_cltk',\n",
              " 'grc_models_cltk',\n",
              " 'greek_treebank_perseus',\n",
              " 'greek_treebank_gorman',\n",
              " 'greek_lexica_perseus',\n",
              " 'greek_training_set_sentence_cltk',\n",
              " 'greek_word2vec_cltk',\n",
              " 'greek_text_lacus_curtius',\n",
              " 'grc_text_first1kgreek',\n",
              " 'grc_text_tesserae']"
            ]
          },
          "metadata": {},
          "execution_count": 4
        }
      ]
    },
    {
      "cell_type": "code",
      "source": [
        "corpus_downloader.import_corpus(\"grc_text_perseus\")"
      ],
      "metadata": {
        "colab": {
          "base_uri": "https://localhost:8080/"
        },
        "id": "xrebt-ROoC1C",
        "outputId": "5e0f707e-24a7-433c-ffb7-4582534a8a80"
      },
      "execution_count": 5,
      "outputs": [
        {
          "output_type": "stream",
          "name": "stderr",
          "text": [
            "INFO:CLTK:Cloning 'grc_text_perseus' from 'https://github.com/cltk/grc_text_perseus.git'\n"
          ]
        },
        {
          "output_type": "stream",
          "name": "stdout",
          "text": []
        }
      ]
    },
    {
      "cell_type": "code",
      "source": [],
      "metadata": {
        "id": "KqbsVMN2oHYK"
      },
      "execution_count": null,
      "outputs": []
    }
  ]
}