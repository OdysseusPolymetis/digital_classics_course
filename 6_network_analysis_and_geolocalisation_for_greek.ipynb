{
  "cells": [
    {
      "cell_type": "markdown",
      "metadata": {
        "id": "view-in-github",
        "colab_type": "text"
      },
      "source": [
        "<a href=\"https://colab.research.google.com/github/OdysseusPolymetis/digital_classics_course/blob/main/6_network_analysis_and_geolocalisation_for_greek.ipynb\" target=\"_parent\"><img src=\"https://colab.research.google.com/assets/colab-badge.svg\" alt=\"Open In Colab\"/></a>"
      ]
    },
    {
      "cell_type": "code",
      "execution_count": null,
      "metadata": {
        "id": "IuBkh6DvI6jU"
      },
      "outputs": [],
      "source": [
        "!pip install flair\n",
        "!pip install stanza"
      ]
    },
    {
      "cell_type": "code",
      "execution_count": null,
      "metadata": {
        "id": "4RoPC0WkIlYl"
      },
      "outputs": [],
      "source": [
        "from flair.data import Sentence\n",
        "from flair.models import SequenceTagger\n",
        "\n",
        "tagger = SequenceTagger.load(\"UGARIT/flair_grc_bert_ner\")"
      ]
    },
    {
      "cell_type": "markdown",
      "metadata": {
        "id": "t4AhQOHyLwNN"
      },
      "source": [
        "# **Test sur une phrase**"
      ]
    },
    {
      "cell_type": "code",
      "execution_count": null,
      "metadata": {
        "colab": {
          "base_uri": "https://localhost:8080/"
        },
        "id": "7qSXrFaRI4zg",
        "outputId": "97a7b583-c14d-43d7-b612-50eb2b807616"
      },
      "outputs": [
        {
          "output_type": "stream",
          "name": "stdout",
          "text": [
            "Span[3:4]: \"Ἀλέξανδρος\" → PER (0.9974)\n",
            "Span[5:6]: \"Πέρσῃ\" → MISC (0.9951)\n",
            "Span[8:9]: \"Μακεδόνα\" → MISC (0.9954)\n",
            "Span[20:21]: \"Πέρσαι\" → MISC (0.9944)\n"
          ]
        }
      ],
      "source": [
        "sentence = Sentence('ταῦτα εἴπας ὁ Ἀλέξανδρος παρίζει Πέρσῃ ἀνδρὶ ἄνδρα Μακεδόνα ὡς γυναῖκα τῷ λόγῳ · οἳ δέ , ἐπείτε σφέων οἱ Πέρσαι ψαύειν ἐπειρῶντο , διεργάζοντο αὐτούς .')\n",
        "tagger.predict(sentence)\n",
        "for entity in sentence.get_spans('ner'):\n",
        "    print(entity)"
      ]
    },
    {
      "cell_type": "markdown",
      "metadata": {
        "id": "Tv0cjjfsL69n"
      },
      "source": [
        "# **Test sur un TXT**"
      ]
    },
    {
      "cell_type": "code",
      "execution_count": 3,
      "metadata": {
        "id": "51Yynv2SLuFN"
      },
      "outputs": [],
      "source": [
        "import stanza\n",
        "import numpy as np\n",
        "from tqdm import tqdm"
      ]
    },
    {
      "cell_type": "code",
      "source": [
        "!wget https://raw.githubusercontent.com/OdysseusPolymetis/digital_classics_course/refs/heads/main/odyssee_integrale.txt"
      ],
      "metadata": {
        "id": "82xQdf6_h6qT"
      },
      "execution_count": null,
      "outputs": []
    },
    {
      "cell_type": "code",
      "execution_count": 5,
      "metadata": {
        "id": "6SUxGrafNOaB"
      },
      "outputs": [],
      "source": [
        "with open('/content/odyssee_integrale.txt', 'r', encoding='utf-8') as file:\n",
        "    text = file.read()"
      ]
    },
    {
      "cell_type": "code",
      "execution_count": null,
      "metadata": {
        "id": "SODqqB-pe84S"
      },
      "outputs": [],
      "source": [
        "stanza.download('grc')\n",
        "nlp = stanza.Pipeline(lang='grc', processors='tokenize,lemma')"
      ]
    },
    {
      "cell_type": "code",
      "execution_count": null,
      "metadata": {
        "id": "GZCMkIIJbcAv"
      },
      "outputs": [],
      "source": [
        "doc=nlp(text)\n",
        "\n",
        "from collections import defaultdict\n",
        "import numpy as np\n",
        "\n",
        "# Initialisation du dictionnaire pour la matrice de cooccurrence\n",
        "cooccurrence_dict = defaultdict(lambda: defaultdict(int))\n",
        "\n",
        "for sentence in doc.sentences:\n",
        "    sentence_text = sentence.text\n",
        "\n",
        "    # Prédiction NER avec Flair\n",
        "    ner_sentence = Sentence(sentence_text)\n",
        "    tagger.predict(ner_sentence)\n",
        "\n",
        "    # Extraction des entités NER de type PER\n",
        "    ner_entities = [(entity.text, entity.start_position, entity.end_position) for entity in ner_sentence.get_spans('ner') if entity.get_label('ner').value == 'PER']\n",
        "\n",
        "    # Pour chaque entité NER PER, trouver les cooccurrences dans la fenêtre de 20 mots\n",
        "    for i, (entity_text_i, start_i, end_i) in enumerate(ner_entities):\n",
        "        lemma_i = ' '.join([token.lemma for token in sentence.words if entity_text_i in token.text])\n",
        "\n",
        "        for j, (entity_text_j, start_j, end_j) in enumerate(ner_entities):\n",
        "            if i != j and abs(start_i - start_j) <= 20:\n",
        "                lemma_j = ' '.join([token.lemma for token in sentence.words if entity_text_j in token.text])\n",
        "                cooccurrence_dict[lemma_i][lemma_j] += 1\n",
        "\n",
        "# Conversion du dictionnaire en matrice\n",
        "entities = list(cooccurrence_dict.keys())\n",
        "matrix_size = len(entities)\n",
        "cooccurrence_matrix = np.zeros((matrix_size, matrix_size), dtype=int)\n",
        "\n",
        "for i, entity_i in enumerate(entities):\n",
        "    for j, entity_j in enumerate(entities):\n",
        "        cooccurrence_matrix[i, j] = cooccurrence_dict[entity_i][entity_j]\n",
        "\n",
        "# Affichage de la matrice\n",
        "print(cooccurrence_matrix)\n"
      ]
    },
    {
      "cell_type": "code",
      "execution_count": null,
      "metadata": {
        "id": "tcb_vTZSbheZ"
      },
      "outputs": [],
      "source": [
        "import networkx as nx\n",
        "\n",
        "G = nx.Graph()\n",
        "\n",
        "# Ajout des nœuds\n",
        "for i, entity in enumerate(entities):\n",
        "    G.add_node(i, label=entity)\n",
        "\n",
        "# Ajout des arêtes\n",
        "for i, row in enumerate(cooccurrence_matrix):\n",
        "    for j, weight in enumerate(row):\n",
        "        if weight > 0 and i != j:\n",
        "            G.add_edge(i, j, weight=weight)\n",
        "\n",
        "# Exportation en GEXF\n",
        "nx.write_gexf(G, \"network_direct.gexf\")"
      ]
    },
    {
      "cell_type": "markdown",
      "metadata": {
        "id": "wEYNL6XEkov0"
      },
      "source": [
        "## Si vous voulez être plus tolérants sur les NER, et inclure les incertitudes (MISC)"
      ]
    },
    {
      "cell_type": "code",
      "execution_count": null,
      "metadata": {
        "id": "7qzJLy06cq1u",
        "colab": {
          "base_uri": "https://localhost:8080/"
        },
        "outputId": "22f7eca9-b7f0-41e2-8332-edb1469f6718"
      },
      "outputs": [
        {
          "output_type": "stream",
          "name": "stdout",
          "text": [
            "[[0 2 0 ... 0 0 0]\n",
            " [2 0 0 ... 0 0 0]\n",
            " [0 0 0 ... 0 0 0]\n",
            " ...\n",
            " [0 0 0 ... 0 0 0]\n",
            " [0 0 0 ... 0 0 0]\n",
            " [0 0 0 ... 0 0 0]]\n"
          ]
        }
      ],
      "source": [
        "cooccurrence_dict = defaultdict(lambda: defaultdict(int))\n",
        "\n",
        "for sentence in doc.sentences:\n",
        "    sentence_text = sentence.text\n",
        "\n",
        "    # Prédiction NER avec Flair\n",
        "    ner_sentence = Sentence(sentence_text)\n",
        "    tagger.predict(ner_sentence)\n",
        "\n",
        "    # Extraction des entités NER de type PER et MISC\n",
        "    ner_entities = [(entity.text, entity.start_position, entity.end_position) for entity in ner_sentence.get_spans('ner') if entity.get_label('ner').value in ['PER', 'MISC']]\n",
        "\n",
        "    # Pour chaque entité NER (PER et MISC), trouver les cooccurrences dans la fenêtre de 20 mots\n",
        "    for i, (entity_text_i, start_i, end_i) in enumerate(ner_entities):\n",
        "        lemma_i = ' '.join([token.lemma for token in sentence.words if entity_text_i in token.text])\n",
        "\n",
        "        for j, (entity_text_j, start_j, end_j) in enumerate(ner_entities):\n",
        "            if i != j and abs(start_i - start_j) <= 20:\n",
        "                lemma_j = ' '.join([token.lemma for token in sentence.words if entity_text_j in token.text])\n",
        "                cooccurrence_dict[lemma_i][lemma_j] += 1\n",
        "\n",
        "# Conversion du dictionnaire en matrice\n",
        "entities = list(cooccurrence_dict.keys())\n",
        "matrix_size = len(entities)\n",
        "cooccurrence_matrix = np.zeros((matrix_size, matrix_size), dtype=int)\n",
        "\n",
        "for i, entity_i in enumerate(entities):\n",
        "    for j, entity_j in enumerate(entities):\n",
        "        cooccurrence_matrix[i, j] = cooccurrence_dict[entity_i][entity_j]\n",
        "\n",
        "# Affichage de la matrice\n",
        "print(cooccurrence_matrix)"
      ]
    },
    {
      "cell_type": "markdown",
      "metadata": {
        "id": "D7HMPFluq_nT"
      },
      "source": [
        "# **Géolocalisation avec Pleiades**"
      ]
    },
    {
      "cell_type": "code",
      "execution_count": 8,
      "metadata": {
        "id": "f_f-xIKmhdFv"
      },
      "outputs": [],
      "source": [
        "doc=nlp(text)"
      ]
    },
    {
      "cell_type": "code",
      "execution_count": 9,
      "metadata": {
        "id": "f7Y6CucVljo5"
      },
      "outputs": [],
      "source": [
        "import requests\n",
        "import folium\n",
        "from flair.data import Sentence\n",
        "from flair.models import SequenceTagger\n",
        "import pandas as pd\n",
        "import re\n",
        "from collections import Counter\n",
        "from collections import defaultdict\n",
        "import unicodedata"
      ]
    },
    {
      "cell_type": "code",
      "execution_count": 10,
      "metadata": {
        "colab": {
          "base_uri": "https://localhost:8080/"
        },
        "id": "IF_j_da_bIb9",
        "outputId": "e071544f-c742-4385-aaac-2f960b9131d4"
      },
      "outputs": [
        {
          "output_type": "stream",
          "name": "stderr",
          "text": [
            "Processing sentences: 100%|██████████| 7476/7476 [02:20<00:00, 53.13it/s]\n"
          ]
        }
      ],
      "source": [
        "# Fonction pour normaliser les noms\n",
        "def normalize_name(name):\n",
        "    return ''.join(c for c in unicodedata.normalize('NFD', name) if unicodedata.category(c) != 'Mn').lower()\n",
        "\n",
        "# Fonction pour trouver le lemme correspondant au texte de l'entité\n",
        "def find_lemma_by_text(text, sentence):\n",
        "    text = normalize_name(text)\n",
        "    for word in sentence.words:\n",
        "        if normalize_name(word.text) == text:\n",
        "            return word.lemma.lower()\n",
        "    return None\n",
        "\n",
        "# Chargement des données Pleiades depuis le CSV\n",
        "names_df = pd.read_csv('/content/names.csv')\n",
        "names_df['attested_form_lower'] = names_df['attested_form'].str.lower()\n",
        "\n",
        "# Initialisation de la carte Folium\n",
        "m = folium.Map(location=[37.9838, 23.7275], zoom_start=5)\n",
        "\n",
        "\n",
        "loc_to_pers = defaultdict(set)\n",
        "\n",
        "for sentence in tqdm(doc.sentences, desc=\"Processing sentences\"):\n",
        "    flair_sentence = Sentence(sentence.text)\n",
        "    tagger.predict(flair_sentence)\n",
        "\n",
        "    # Extraction des entités LOC et PER avec leurs positions de mot dans la phrase\n",
        "    loc_entities = [(ent.text, ent.start_position) for ent in flair_sentence.get_spans('ner') if ent.tag == 'LOC']\n",
        "    per_entities = [(ent.text, ent.start_position) for ent in flair_sentence.get_spans('ner') if ent.tag == 'PER']\n",
        "\n",
        "    # Association des entités PER à proximité des entités LOC\n",
        "    for loc_text, loc_pos in loc_entities:\n",
        "        for per_text, per_pos in per_entities:\n",
        "            if abs(loc_pos - per_pos) <= 100:  # Condition de proximité basée sur la position des mots\n",
        "                loc_lemma = find_lemma_by_text(loc_text, sentence)\n",
        "                per_lemma = find_lemma_by_text(per_text, sentence)  # Lemmatisation des entités PER\n",
        "                if loc_lemma and per_lemma:  # Vérifiez si les lemmes ont été trouvés\n",
        "                    loc_to_pers[loc_lemma].add(per_lemma)\n",
        "\n",
        "# Ajout des marqueurs sur la carte pour chaque lieu avec les personnages associés\n",
        "for loc_lemma, pers in loc_to_pers.items():\n",
        "    match = names_df[names_df['attested_form_lower'] == loc_lemma]\n",
        "    if not match.empty:\n",
        "        pid = match.iloc[0]['place_id']\n",
        "        pleiades_data = requests.get(f\"http://pleiades.stoa.org/places/{pid}/json\").json()\n",
        "        if 'reprPoint' in pleiades_data and pleiades_data['reprPoint']:\n",
        "            folium.Marker(\n",
        "                location=[pleiades_data['reprPoint'][1], pleiades_data['reprPoint'][0]],\n",
        "                popup=f\"{loc_lemma}: {', '.join(pers)}\",\n",
        "                icon=folium.Icon(color='red')\n",
        "            ).add_to(m)\n",
        "\n",
        "# Sauvegarde de la carte\n",
        "m.save(\"/content/map_ancient_places.html\")\n"
      ]
    },
    {
      "cell_type": "code",
      "execution_count": null,
      "metadata": {
        "id": "IEn_hC4-cyap"
      },
      "outputs": [],
      "source": []
    }
  ],
  "metadata": {
    "accelerator": "GPU",
    "colab": {
      "gpuType": "T4",
      "provenance": [],
      "authorship_tag": "ABX9TyOFM3FA0iULCJQN6wG2oDWd",
      "include_colab_link": true
    },
    "kernelspec": {
      "display_name": "Python 3",
      "name": "python3"
    },
    "language_info": {
      "name": "python"
    }
  },
  "nbformat": 4,
  "nbformat_minor": 0
}