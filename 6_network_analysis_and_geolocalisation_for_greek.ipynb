{
  "cells": [
    {
      "cell_type": "markdown",
      "metadata": {
        "id": "view-in-github",
        "colab_type": "text"
      },
      "source": [
        "<a href=\"https://colab.research.google.com/github/OdysseusPolymetis/digital_classics_course/blob/main/6_network_analysis_and_geolocalisation_for_greek.ipynb\" target=\"_parent\"><img src=\"https://colab.research.google.com/assets/colab-badge.svg\" alt=\"Open In Colab\"/></a>"
      ]
    },
    {
      "cell_type": "code",
      "execution_count": null,
      "metadata": {
        "id": "IuBkh6DvI6jU"
      },
      "outputs": [],
      "source": [
        "!pip install flair\n",
        "!pip install stanza"
      ]
    },
    {
      "cell_type": "code",
      "execution_count": null,
      "metadata": {
        "id": "4RoPC0WkIlYl",
        "colab": {
          "base_uri": "https://localhost:8080/"
        },
        "outputId": "f49ced24-fcda-4b45-a1b2-9c1a2fb9bfa1"
      },
      "outputs": [
        {
          "output_type": "stream",
          "name": "stdout",
          "text": [
            "2024-03-28 22:35:41,777 SequenceTagger predicts: Dictionary with 15 tags: O, S-PER, B-PER, E-PER, I-PER, S-MISC, B-MISC, E-MISC, I-MISC, S-LOC, B-LOC, E-LOC, I-LOC, <START>, <STOP>\n"
          ]
        }
      ],
      "source": [
        "from flair.data import Sentence\n",
        "from flair.models import SequenceTagger\n",
        "\n",
        "tagger = SequenceTagger.load(\"UGARIT/flair_grc_bert_ner\")"
      ]
    },
    {
      "cell_type": "markdown",
      "metadata": {
        "id": "t4AhQOHyLwNN"
      },
      "source": [
        "# **Test sur une phrase**"
      ]
    },
    {
      "cell_type": "code",
      "execution_count": null,
      "metadata": {
        "id": "7qSXrFaRI4zg"
      },
      "outputs": [],
      "source": [
        "sentence = Sentence('ταῦτα εἴπας ὁ Ἀλέξανδρος παρίζει Πέρσῃ ἀνδρὶ ἄνδρα Μακεδόνα ὡς γυναῖκα τῷ λόγῳ · οἳ δέ , ἐπείτε σφέων οἱ Πέρσαι ψαύειν ἐπειρῶντο , διεργάζοντο αὐτούς .')\n",
        "tagger.predict(sentence)\n",
        "for entity in sentence.get_spans('ner'):\n",
        "    print(entity)"
      ]
    },
    {
      "cell_type": "markdown",
      "metadata": {
        "id": "Tv0cjjfsL69n"
      },
      "source": [
        "# **Test sur un TXT**"
      ]
    },
    {
      "cell_type": "code",
      "execution_count": null,
      "metadata": {
        "id": "51Yynv2SLuFN"
      },
      "outputs": [],
      "source": [
        "import stanza\n",
        "import numpy as np\n",
        "from tqdm import tqdm"
      ]
    },
    {
      "cell_type": "code",
      "execution_count": null,
      "metadata": {
        "id": "6SUxGrafNOaB"
      },
      "outputs": [],
      "source": [
        "with open('/content/odyssee_integrale.txt', 'r', encoding='utf-8') as file:\n",
        "    text = file.read()"
      ]
    },
    {
      "cell_type": "code",
      "execution_count": null,
      "metadata": {
        "id": "SODqqB-pe84S"
      },
      "outputs": [],
      "source": [
        "stanza.download('grc')\n",
        "nlp = stanza.Pipeline(lang='grc', processors='tokenize,lemma')"
      ]
    },
    {
      "cell_type": "code",
      "execution_count": null,
      "metadata": {
        "id": "GZCMkIIJbcAv"
      },
      "outputs": [],
      "source": [
        "doc=nlp(text)\n",
        "\n",
        "from collections import defaultdict\n",
        "import numpy as np\n",
        "\n",
        "# Initialisation du dictionnaire pour la matrice de cooccurrence\n",
        "cooccurrence_dict = defaultdict(lambda: defaultdict(int))\n",
        "\n",
        "for sentence in doc.sentences:\n",
        "    sentence_text = sentence.text\n",
        "\n",
        "    # Prédiction NER avec Flair\n",
        "    ner_sentence = Sentence(sentence_text)\n",
        "    tagger.predict(ner_sentence)\n",
        "\n",
        "    # Extraction des entités NER de type PER\n",
        "    ner_entities = [(entity.text, entity.start_position, entity.end_position) for entity in ner_sentence.get_spans('ner') if entity.get_label('ner').value == 'PER']\n",
        "\n",
        "    # Pour chaque entité NER PER, trouver les cooccurrences dans la fenêtre de 20 mots\n",
        "    for i, (entity_text_i, start_i, end_i) in enumerate(ner_entities):\n",
        "        lemma_i = ' '.join([token.lemma for token in sentence.words if entity_text_i in token.text])\n",
        "\n",
        "        for j, (entity_text_j, start_j, end_j) in enumerate(ner_entities):\n",
        "            if i != j and abs(start_i - start_j) <= 20:\n",
        "                lemma_j = ' '.join([token.lemma for token in sentence.words if entity_text_j in token.text])\n",
        "                cooccurrence_dict[lemma_i][lemma_j] += 1\n",
        "\n",
        "# Conversion du dictionnaire en matrice\n",
        "entities = list(cooccurrence_dict.keys())\n",
        "matrix_size = len(entities)\n",
        "cooccurrence_matrix = np.zeros((matrix_size, matrix_size), dtype=int)\n",
        "\n",
        "for i, entity_i in enumerate(entities):\n",
        "    for j, entity_j in enumerate(entities):\n",
        "        cooccurrence_matrix[i, j] = cooccurrence_dict[entity_i][entity_j]\n",
        "\n",
        "# Affichage de la matrice\n",
        "print(cooccurrence_matrix)\n"
      ]
    },
    {
      "cell_type": "code",
      "execution_count": null,
      "metadata": {
        "id": "tcb_vTZSbheZ"
      },
      "outputs": [],
      "source": [
        "import networkx as nx\n",
        "\n",
        "G = nx.Graph()\n",
        "\n",
        "# Ajout des nœuds\n",
        "for i, entity in enumerate(entities):\n",
        "    G.add_node(i, label=entity)\n",
        "\n",
        "# Ajout des arêtes\n",
        "for i, row in enumerate(cooccurrence_matrix):\n",
        "    for j, weight in enumerate(row):\n",
        "        if weight > 0 and i != j:\n",
        "            G.add_edge(i, j, weight=weight)\n",
        "\n",
        "# Exportation en GEXF\n",
        "nx.write_gexf(G, \"network.gexf\")"
      ]
    },
    {
      "cell_type": "markdown",
      "source": [
        "## Si vous voulez être plus tolérants sur les NER, et inclure les incertitudes (MISC)"
      ],
      "metadata": {
        "id": "wEYNL6XEkov0"
      }
    },
    {
      "cell_type": "code",
      "execution_count": null,
      "metadata": {
        "id": "7qzJLy06cq1u"
      },
      "outputs": [],
      "source": [
        "cooccurrence_dict = defaultdict(lambda: defaultdict(int))\n",
        "\n",
        "for sentence in doc.sentences:\n",
        "    sentence_text = sentence.text\n",
        "\n",
        "    # Prédiction NER avec Flair\n",
        "    ner_sentence = Sentence(sentence_text)\n",
        "    tagger.predict(ner_sentence)\n",
        "\n",
        "    # Extraction des entités NER de type PER et MISC\n",
        "    ner_entities = [(entity.text, entity.start_position, entity.end_position) for entity in ner_sentence.get_spans('ner') if entity.get_label('ner').value in ['PER', 'MISC']]\n",
        "\n",
        "    # Pour chaque entité NER (PER et MISC), trouver les cooccurrences dans la fenêtre de 20 mots\n",
        "    for i, (entity_text_i, start_i, end_i) in enumerate(ner_entities):\n",
        "        lemma_i = ' '.join([token.lemma for token in sentence.words if entity_text_i in token.text])\n",
        "\n",
        "        for j, (entity_text_j, start_j, end_j) in enumerate(ner_entities):\n",
        "            if i != j and abs(start_i - start_j) <= 20:\n",
        "                lemma_j = ' '.join([token.lemma for token in sentence.words if entity_text_j in token.text])\n",
        "                cooccurrence_dict[lemma_i][lemma_j] += 1\n",
        "\n",
        "# Conversion du dictionnaire en matrice\n",
        "entities = list(cooccurrence_dict.keys())\n",
        "matrix_size = len(entities)\n",
        "cooccurrence_matrix = np.zeros((matrix_size, matrix_size), dtype=int)\n",
        "\n",
        "for i, entity_i in enumerate(entities):\n",
        "    for j, entity_j in enumerate(entities):\n",
        "        cooccurrence_matrix[i, j] = cooccurrence_dict[entity_i][entity_j]\n",
        "\n",
        "# Affichage de la matrice\n",
        "print(cooccurrence_matrix)"
      ]
    },
    {
      "cell_type": "markdown",
      "source": [
        "# **Géolocalisation avec Pleiades**"
      ],
      "metadata": {
        "id": "D7HMPFluq_nT"
      }
    },
    {
      "cell_type": "code",
      "source": [
        "doc=nlp(text)"
      ],
      "metadata": {
        "id": "f_f-xIKmhdFv"
      },
      "execution_count": 66,
      "outputs": []
    },
    {
      "cell_type": "code",
      "source": [
        "import requests\n",
        "import folium\n",
        "from flair.data import Sentence\n",
        "from flair.models import SequenceTagger\n",
        "import pandas as pd\n",
        "import re\n",
        "from collections import Counter\n",
        "from collections import defaultdict\n",
        "import unicodedata"
      ],
      "metadata": {
        "id": "f7Y6CucVljo5"
      },
      "execution_count": 72,
      "outputs": []
    },
    {
      "cell_type": "code",
      "source": [
        "# Fonction pour normaliser les noms\n",
        "def normalize_name(name):\n",
        "    return ''.join(c for c in unicodedata.normalize('NFD', name) if unicodedata.category(c) != 'Mn').lower()\n",
        "\n",
        "# Fonction pour trouver le lemme correspondant au texte de l'entité\n",
        "def find_lemma_by_text(text, sentence):\n",
        "    text = normalize_name(text)\n",
        "    for word in sentence.words:\n",
        "        if normalize_name(word.text) == text:\n",
        "            return word.lemma.lower()\n",
        "    return None\n",
        "\n",
        "# Chargement des données Pleiades depuis le CSV\n",
        "names_df = pd.read_csv('/content/names.csv')\n",
        "names_df['attested_form_lower'] = names_df['attested_form'].str.lower()\n",
        "\n",
        "# Initialisation de la carte Folium\n",
        "m = folium.Map(location=[37.9838, 23.7275], zoom_start=5)\n",
        "\n",
        "\n",
        "loc_to_pers = defaultdict(set)\n",
        "\n",
        "for sentence in tqdm(doc.sentences, desc=\"Processing sentences\"):\n",
        "    flair_sentence = Sentence(sentence.text)\n",
        "    tagger.predict(flair_sentence)\n",
        "\n",
        "    # Extraction des entités LOC et PER avec leurs positions de mot dans la phrase\n",
        "    loc_entities = [(ent.text, ent.start_position) for ent in flair_sentence.get_spans('ner') if ent.tag == 'LOC']\n",
        "    per_entities = [(ent.text, ent.start_position) for ent in flair_sentence.get_spans('ner') if ent.tag == 'PER']\n",
        "\n",
        "    # Association des entités PER à proximité des entités LOC\n",
        "    for loc_text, loc_pos in loc_entities:\n",
        "        for per_text, per_pos in per_entities:\n",
        "            if abs(loc_pos - per_pos) <= 100:  # Condition de proximité basée sur la position des mots\n",
        "                loc_lemma = find_lemma_by_text(loc_text, sentence)\n",
        "                per_lemma = find_lemma_by_text(per_text, sentence)  # Lemmatisation des entités PER\n",
        "                if loc_lemma and per_lemma:  # Vérifiez si les lemmes ont été trouvés\n",
        "                    loc_to_pers[loc_lemma].add(per_lemma)\n",
        "\n",
        "# Ajout des marqueurs sur la carte pour chaque lieu avec les personnages associés\n",
        "for loc_lemma, pers in loc_to_pers.items():\n",
        "    match = names_df[names_df['attested_form_lower'] == loc_lemma]\n",
        "    if not match.empty:\n",
        "        pid = match.iloc[0]['place_id']\n",
        "        pleiades_data = requests.get(f\"http://pleiades.stoa.org/places/{pid}/json\").json()\n",
        "        if 'reprPoint' in pleiades_data and pleiades_data['reprPoint']:\n",
        "            folium.Marker(\n",
        "                location=[pleiades_data['reprPoint'][1], pleiades_data['reprPoint'][0]],\n",
        "                popup=f\"{loc_lemma}: {', '.join(pers)}\",\n",
        "                icon=folium.Icon(color='red')\n",
        "            ).add_to(m)\n",
        "\n",
        "# Sauvegarde de la carte\n",
        "m.save(\"/content/map_ancient_places.html\")\n"
      ],
      "metadata": {
        "colab": {
          "base_uri": "https://localhost:8080/",
          "height": 49,
          "referenced_widgets": [
            "aa0e487828d343ca96ce2bda84434352",
            "5a1f2535b8af4f34aa1b1871d2405fa7",
            "f95fa6c092604ae78968dce192cb5284",
            "f31c2fd59e0146ce9318d1b9ccb44b2f",
            "4927f56da9b1473e9284d6e0a9d4f7da",
            "8be1df17dcc640eab4d7890d88e7eebc",
            "2c3c1708d6404fbb83c4083f17fd056f",
            "18bcb4367c5b4ff280bd0e995824af8b",
            "ce0a7f0a53494c9c805030d6146d0d62",
            "2cf394368347497c96bccdb7978fa095",
            "05dff0a5901e48faa2c0784d72deb7b5"
          ]
        },
        "id": "IF_j_da_bIb9",
        "outputId": "275ab7da-78ce-4880-b954-553cd1526bf2"
      },
      "execution_count": 74,
      "outputs": [
        {
          "output_type": "display_data",
          "data": {
            "text/plain": [
              "Processing sentences:   0%|          | 0/7476 [00:00<?, ?it/s]"
            ],
            "application/vnd.jupyter.widget-view+json": {
              "version_major": 2,
              "version_minor": 0,
              "model_id": "aa0e487828d343ca96ce2bda84434352"
            }
          },
          "metadata": {}
        }
      ]
    },
    {
      "cell_type": "code",
      "source": [],
      "metadata": {
        "id": "IEn_hC4-cyap"
      },
      "execution_count": null,
      "outputs": []
    }
  ],
  "metadata": {
    "accelerator": "GPU",
    "colab": {
      "gpuType": "T4",
      "provenance": [],
      "authorship_tag": "ABX9TyMYDJTxxG81rM6CT2nxuCjJ",
      "include_colab_link": true
    },
    "kernelspec": {
      "display_name": "Python 3",
      "name": "python3"
    },
    "language_info": {
      "name": "python"
    },
    "widgets": {
      "application/vnd.jupyter.widget-state+json": {
        "aa0e487828d343ca96ce2bda84434352": {
          "model_module": "@jupyter-widgets/controls",
          "model_name": "HBoxModel",
          "model_module_version": "1.5.0",
          "state": {
            "_dom_classes": [],
            "_model_module": "@jupyter-widgets/controls",
            "_model_module_version": "1.5.0",
            "_model_name": "HBoxModel",
            "_view_count": null,
            "_view_module": "@jupyter-widgets/controls",
            "_view_module_version": "1.5.0",
            "_view_name": "HBoxView",
            "box_style": "",
            "children": [
              "IPY_MODEL_5a1f2535b8af4f34aa1b1871d2405fa7",
              "IPY_MODEL_f95fa6c092604ae78968dce192cb5284",
              "IPY_MODEL_f31c2fd59e0146ce9318d1b9ccb44b2f"
            ],
            "layout": "IPY_MODEL_4927f56da9b1473e9284d6e0a9d4f7da"
          }
        },
        "5a1f2535b8af4f34aa1b1871d2405fa7": {
          "model_module": "@jupyter-widgets/controls",
          "model_name": "HTMLModel",
          "model_module_version": "1.5.0",
          "state": {
            "_dom_classes": [],
            "_model_module": "@jupyter-widgets/controls",
            "_model_module_version": "1.5.0",
            "_model_name": "HTMLModel",
            "_view_count": null,
            "_view_module": "@jupyter-widgets/controls",
            "_view_module_version": "1.5.0",
            "_view_name": "HTMLView",
            "description": "",
            "description_tooltip": null,
            "layout": "IPY_MODEL_8be1df17dcc640eab4d7890d88e7eebc",
            "placeholder": "​",
            "style": "IPY_MODEL_2c3c1708d6404fbb83c4083f17fd056f",
            "value": "Processing sentences: 100%"
          }
        },
        "f95fa6c092604ae78968dce192cb5284": {
          "model_module": "@jupyter-widgets/controls",
          "model_name": "FloatProgressModel",
          "model_module_version": "1.5.0",
          "state": {
            "_dom_classes": [],
            "_model_module": "@jupyter-widgets/controls",
            "_model_module_version": "1.5.0",
            "_model_name": "FloatProgressModel",
            "_view_count": null,
            "_view_module": "@jupyter-widgets/controls",
            "_view_module_version": "1.5.0",
            "_view_name": "ProgressView",
            "bar_style": "success",
            "description": "",
            "description_tooltip": null,
            "layout": "IPY_MODEL_18bcb4367c5b4ff280bd0e995824af8b",
            "max": 7476,
            "min": 0,
            "orientation": "horizontal",
            "style": "IPY_MODEL_ce0a7f0a53494c9c805030d6146d0d62",
            "value": 7476
          }
        },
        "f31c2fd59e0146ce9318d1b9ccb44b2f": {
          "model_module": "@jupyter-widgets/controls",
          "model_name": "HTMLModel",
          "model_module_version": "1.5.0",
          "state": {
            "_dom_classes": [],
            "_model_module": "@jupyter-widgets/controls",
            "_model_module_version": "1.5.0",
            "_model_name": "HTMLModel",
            "_view_count": null,
            "_view_module": "@jupyter-widgets/controls",
            "_view_module_version": "1.5.0",
            "_view_name": "HTMLView",
            "description": "",
            "description_tooltip": null,
            "layout": "IPY_MODEL_2cf394368347497c96bccdb7978fa095",
            "placeholder": "​",
            "style": "IPY_MODEL_05dff0a5901e48faa2c0784d72deb7b5",
            "value": " 7476/7476 [02:20&lt;00:00, 58.82it/s]"
          }
        },
        "4927f56da9b1473e9284d6e0a9d4f7da": {
          "model_module": "@jupyter-widgets/base",
          "model_name": "LayoutModel",
          "model_module_version": "1.2.0",
          "state": {
            "_model_module": "@jupyter-widgets/base",
            "_model_module_version": "1.2.0",
            "_model_name": "LayoutModel",
            "_view_count": null,
            "_view_module": "@jupyter-widgets/base",
            "_view_module_version": "1.2.0",
            "_view_name": "LayoutView",
            "align_content": null,
            "align_items": null,
            "align_self": null,
            "border": null,
            "bottom": null,
            "display": null,
            "flex": null,
            "flex_flow": null,
            "grid_area": null,
            "grid_auto_columns": null,
            "grid_auto_flow": null,
            "grid_auto_rows": null,
            "grid_column": null,
            "grid_gap": null,
            "grid_row": null,
            "grid_template_areas": null,
            "grid_template_columns": null,
            "grid_template_rows": null,
            "height": null,
            "justify_content": null,
            "justify_items": null,
            "left": null,
            "margin": null,
            "max_height": null,
            "max_width": null,
            "min_height": null,
            "min_width": null,
            "object_fit": null,
            "object_position": null,
            "order": null,
            "overflow": null,
            "overflow_x": null,
            "overflow_y": null,
            "padding": null,
            "right": null,
            "top": null,
            "visibility": null,
            "width": null
          }
        },
        "8be1df17dcc640eab4d7890d88e7eebc": {
          "model_module": "@jupyter-widgets/base",
          "model_name": "LayoutModel",
          "model_module_version": "1.2.0",
          "state": {
            "_model_module": "@jupyter-widgets/base",
            "_model_module_version": "1.2.0",
            "_model_name": "LayoutModel",
            "_view_count": null,
            "_view_module": "@jupyter-widgets/base",
            "_view_module_version": "1.2.0",
            "_view_name": "LayoutView",
            "align_content": null,
            "align_items": null,
            "align_self": null,
            "border": null,
            "bottom": null,
            "display": null,
            "flex": null,
            "flex_flow": null,
            "grid_area": null,
            "grid_auto_columns": null,
            "grid_auto_flow": null,
            "grid_auto_rows": null,
            "grid_column": null,
            "grid_gap": null,
            "grid_row": null,
            "grid_template_areas": null,
            "grid_template_columns": null,
            "grid_template_rows": null,
            "height": null,
            "justify_content": null,
            "justify_items": null,
            "left": null,
            "margin": null,
            "max_height": null,
            "max_width": null,
            "min_height": null,
            "min_width": null,
            "object_fit": null,
            "object_position": null,
            "order": null,
            "overflow": null,
            "overflow_x": null,
            "overflow_y": null,
            "padding": null,
            "right": null,
            "top": null,
            "visibility": null,
            "width": null
          }
        },
        "2c3c1708d6404fbb83c4083f17fd056f": {
          "model_module": "@jupyter-widgets/controls",
          "model_name": "DescriptionStyleModel",
          "model_module_version": "1.5.0",
          "state": {
            "_model_module": "@jupyter-widgets/controls",
            "_model_module_version": "1.5.0",
            "_model_name": "DescriptionStyleModel",
            "_view_count": null,
            "_view_module": "@jupyter-widgets/base",
            "_view_module_version": "1.2.0",
            "_view_name": "StyleView",
            "description_width": ""
          }
        },
        "18bcb4367c5b4ff280bd0e995824af8b": {
          "model_module": "@jupyter-widgets/base",
          "model_name": "LayoutModel",
          "model_module_version": "1.2.0",
          "state": {
            "_model_module": "@jupyter-widgets/base",
            "_model_module_version": "1.2.0",
            "_model_name": "LayoutModel",
            "_view_count": null,
            "_view_module": "@jupyter-widgets/base",
            "_view_module_version": "1.2.0",
            "_view_name": "LayoutView",
            "align_content": null,
            "align_items": null,
            "align_self": null,
            "border": null,
            "bottom": null,
            "display": null,
            "flex": null,
            "flex_flow": null,
            "grid_area": null,
            "grid_auto_columns": null,
            "grid_auto_flow": null,
            "grid_auto_rows": null,
            "grid_column": null,
            "grid_gap": null,
            "grid_row": null,
            "grid_template_areas": null,
            "grid_template_columns": null,
            "grid_template_rows": null,
            "height": null,
            "justify_content": null,
            "justify_items": null,
            "left": null,
            "margin": null,
            "max_height": null,
            "max_width": null,
            "min_height": null,
            "min_width": null,
            "object_fit": null,
            "object_position": null,
            "order": null,
            "overflow": null,
            "overflow_x": null,
            "overflow_y": null,
            "padding": null,
            "right": null,
            "top": null,
            "visibility": null,
            "width": null
          }
        },
        "ce0a7f0a53494c9c805030d6146d0d62": {
          "model_module": "@jupyter-widgets/controls",
          "model_name": "ProgressStyleModel",
          "model_module_version": "1.5.0",
          "state": {
            "_model_module": "@jupyter-widgets/controls",
            "_model_module_version": "1.5.0",
            "_model_name": "ProgressStyleModel",
            "_view_count": null,
            "_view_module": "@jupyter-widgets/base",
            "_view_module_version": "1.2.0",
            "_view_name": "StyleView",
            "bar_color": null,
            "description_width": ""
          }
        },
        "2cf394368347497c96bccdb7978fa095": {
          "model_module": "@jupyter-widgets/base",
          "model_name": "LayoutModel",
          "model_module_version": "1.2.0",
          "state": {
            "_model_module": "@jupyter-widgets/base",
            "_model_module_version": "1.2.0",
            "_model_name": "LayoutModel",
            "_view_count": null,
            "_view_module": "@jupyter-widgets/base",
            "_view_module_version": "1.2.0",
            "_view_name": "LayoutView",
            "align_content": null,
            "align_items": null,
            "align_self": null,
            "border": null,
            "bottom": null,
            "display": null,
            "flex": null,
            "flex_flow": null,
            "grid_area": null,
            "grid_auto_columns": null,
            "grid_auto_flow": null,
            "grid_auto_rows": null,
            "grid_column": null,
            "grid_gap": null,
            "grid_row": null,
            "grid_template_areas": null,
            "grid_template_columns": null,
            "grid_template_rows": null,
            "height": null,
            "justify_content": null,
            "justify_items": null,
            "left": null,
            "margin": null,
            "max_height": null,
            "max_width": null,
            "min_height": null,
            "min_width": null,
            "object_fit": null,
            "object_position": null,
            "order": null,
            "overflow": null,
            "overflow_x": null,
            "overflow_y": null,
            "padding": null,
            "right": null,
            "top": null,
            "visibility": null,
            "width": null
          }
        },
        "05dff0a5901e48faa2c0784d72deb7b5": {
          "model_module": "@jupyter-widgets/controls",
          "model_name": "DescriptionStyleModel",
          "model_module_version": "1.5.0",
          "state": {
            "_model_module": "@jupyter-widgets/controls",
            "_model_module_version": "1.5.0",
            "_model_name": "DescriptionStyleModel",
            "_view_count": null,
            "_view_module": "@jupyter-widgets/base",
            "_view_module_version": "1.2.0",
            "_view_name": "StyleView",
            "description_width": ""
          }
        }
      }
    }
  },
  "nbformat": 4,
  "nbformat_minor": 0
}