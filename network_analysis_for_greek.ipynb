{
  "cells": [
    {
      "cell_type": "markdown",
      "metadata": {
        "id": "view-in-github",
        "colab_type": "text"
      },
      "source": [
        "<a href=\"https://colab.research.google.com/github/OdysseusPolymetis/digital_classics_course/blob/main/network_analysis_for_greek.ipynb\" target=\"_parent\"><img src=\"https://colab.research.google.com/assets/colab-badge.svg\" alt=\"Open In Colab\"/></a>"
      ]
    },
    {
      "cell_type": "code",
      "execution_count": null,
      "metadata": {
        "id": "IuBkh6DvI6jU"
      },
      "outputs": [],
      "source": [
        "!pip install flair\n",
        "!pip install stanza"
      ]
    },
    {
      "cell_type": "code",
      "execution_count": null,
      "metadata": {
        "id": "4RoPC0WkIlYl"
      },
      "outputs": [],
      "source": [
        "from flair.data import Sentence\n",
        "from flair.models import SequenceTagger\n",
        "\n",
        "tagger = SequenceTagger.load(\"UGARIT/flair_grc_bert_ner\")"
      ]
    },
    {
      "cell_type": "markdown",
      "metadata": {
        "id": "t4AhQOHyLwNN"
      },
      "source": [
        "# **Test sur une phrase**"
      ]
    },
    {
      "cell_type": "code",
      "execution_count": null,
      "metadata": {
        "id": "7qSXrFaRI4zg"
      },
      "outputs": [],
      "source": [
        "sentence = Sentence('ταῦτα εἴπας ὁ Ἀλέξανδρος παρίζει Πέρσῃ ἀνδρὶ ἄνδρα Μακεδόνα ὡς γυναῖκα τῷ λόγῳ · οἳ δέ , ἐπείτε σφέων οἱ Πέρσαι ψαύειν ἐπειρῶντο , διεργάζοντο αὐτούς .')\n",
        "tagger.predict(sentence)\n",
        "for entity in sentence.get_spans('ner'):\n",
        "    print(entity)"
      ]
    },
    {
      "cell_type": "markdown",
      "metadata": {
        "id": "Tv0cjjfsL69n"
      },
      "source": [
        "# **Test sur un TXT**"
      ]
    },
    {
      "cell_type": "code",
      "execution_count": 2,
      "metadata": {
        "id": "51Yynv2SLuFN"
      },
      "outputs": [],
      "source": [
        "import stanza\n",
        "import numpy as np\n",
        "from tqdm import tqdm"
      ]
    },
    {
      "cell_type": "code",
      "execution_count": 5,
      "metadata": {
        "id": "6SUxGrafNOaB"
      },
      "outputs": [],
      "source": [
        "with open('/content/odyssee_integrale.txt', 'r', encoding='utf-8') as file:\n",
        "    text = file.read()"
      ]
    },
    {
      "cell_type": "code",
      "execution_count": null,
      "metadata": {
        "id": "SODqqB-pe84S"
      },
      "outputs": [],
      "source": [
        "stanza.download('grc')\n",
        "nlp = stanza.Pipeline(lang='grc', processors='tokenize,lemma')"
      ]
    },
    {
      "cell_type": "code",
      "execution_count": null,
      "metadata": {
        "id": "GZCMkIIJbcAv"
      },
      "outputs": [],
      "source": [
        "doc=nlp(text)\n",
        "\n",
        "from collections import defaultdict\n",
        "import numpy as np\n",
        "\n",
        "# Initialisation du dictionnaire pour la matrice de cooccurrence\n",
        "cooccurrence_dict = defaultdict(lambda: defaultdict(int))\n",
        "\n",
        "for sentence in doc.sentences:\n",
        "    sentence_text = sentence.text\n",
        "\n",
        "    # Prédiction NER avec Flair\n",
        "    ner_sentence = Sentence(sentence_text)\n",
        "    tagger.predict(ner_sentence)\n",
        "\n",
        "    # Extraction des entités NER de type PER\n",
        "    ner_entities = [(entity.text, entity.start_position, entity.end_position) for entity in ner_sentence.get_spans('ner') if entity.get_label('ner').value == 'PER']\n",
        "\n",
        "    # Pour chaque entité NER PER, trouver les cooccurrences dans la fenêtre de 20 mots\n",
        "    for i, (entity_text_i, start_i, end_i) in enumerate(ner_entities):\n",
        "        lemma_i = ' '.join([token.lemma for token in sentence.words if entity_text_i in token.text])\n",
        "\n",
        "        for j, (entity_text_j, start_j, end_j) in enumerate(ner_entities):\n",
        "            if i != j and abs(start_i - start_j) <= 20:\n",
        "                lemma_j = ' '.join([token.lemma for token in sentence.words if entity_text_j in token.text])\n",
        "                cooccurrence_dict[lemma_i][lemma_j] += 1\n",
        "\n",
        "# Conversion du dictionnaire en matrice\n",
        "entities = list(cooccurrence_dict.keys())\n",
        "matrix_size = len(entities)\n",
        "cooccurrence_matrix = np.zeros((matrix_size, matrix_size), dtype=int)\n",
        "\n",
        "for i, entity_i in enumerate(entities):\n",
        "    for j, entity_j in enumerate(entities):\n",
        "        cooccurrence_matrix[i, j] = cooccurrence_dict[entity_i][entity_j]\n",
        "\n",
        "# Affichage de la matrice\n",
        "print(cooccurrence_matrix)\n"
      ]
    },
    {
      "cell_type": "code",
      "execution_count": 15,
      "metadata": {
        "id": "tcb_vTZSbheZ"
      },
      "outputs": [],
      "source": [
        "import networkx as nx\n",
        "\n",
        "G = nx.Graph()\n",
        "\n",
        "# Ajout des nœuds\n",
        "for i, entity in enumerate(entities):\n",
        "    G.add_node(i, label=entity)\n",
        "\n",
        "# Ajout des arêtes\n",
        "for i, row in enumerate(cooccurrence_matrix):\n",
        "    for j, weight in enumerate(row):\n",
        "        if weight > 0 and i != j:\n",
        "            G.add_edge(i, j, weight=weight)\n",
        "\n",
        "# Exportation en GEXF\n",
        "nx.write_gexf(G, \"network.gexf\")"
      ]
    },
    {
      "cell_type": "markdown",
      "source": [
        "## Si vous voulez être plus tolérants sur les NER, et inclure les incertitudes (MISC)"
      ],
      "metadata": {
        "id": "wEYNL6XEkov0"
      }
    },
    {
      "cell_type": "code",
      "execution_count": null,
      "metadata": {
        "id": "7qzJLy06cq1u"
      },
      "outputs": [],
      "source": [
        "cooccurrence_dict = defaultdict(lambda: defaultdict(int))\n",
        "\n",
        "for sentence in doc.sentences:\n",
        "    sentence_text = sentence.text\n",
        "\n",
        "    # Prédiction NER avec Flair\n",
        "    ner_sentence = Sentence(sentence_text)\n",
        "    tagger.predict(ner_sentence)\n",
        "\n",
        "    # Extraction des entités NER de type PER et MISC\n",
        "    ner_entities = [(entity.text, entity.start_position, entity.end_position) for entity in ner_sentence.get_spans('ner') if entity.get_label('ner').value in ['PER', 'MISC']]\n",
        "\n",
        "    # Pour chaque entité NER (PER et MISC), trouver les cooccurrences dans la fenêtre de 20 mots\n",
        "    for i, (entity_text_i, start_i, end_i) in enumerate(ner_entities):\n",
        "        lemma_i = ' '.join([token.lemma for token in sentence.words if entity_text_i in token.text])\n",
        "\n",
        "        for j, (entity_text_j, start_j, end_j) in enumerate(ner_entities):\n",
        "            if i != j and abs(start_i - start_j) <= 20:\n",
        "                lemma_j = ' '.join([token.lemma for token in sentence.words if entity_text_j in token.text])\n",
        "                cooccurrence_dict[lemma_i][lemma_j] += 1\n",
        "\n",
        "# Conversion du dictionnaire en matrice\n",
        "entities = list(cooccurrence_dict.keys())\n",
        "matrix_size = len(entities)\n",
        "cooccurrence_matrix = np.zeros((matrix_size, matrix_size), dtype=int)\n",
        "\n",
        "for i, entity_i in enumerate(entities):\n",
        "    for j, entity_j in enumerate(entities):\n",
        "        cooccurrence_matrix[i, j] = cooccurrence_dict[entity_i][entity_j]\n",
        "\n",
        "# Affichage de la matrice\n",
        "print(cooccurrence_matrix)"
      ]
    },
    {
      "cell_type": "markdown",
      "source": [
        "# **Géolocalisation avec Pleiades**"
      ],
      "metadata": {
        "id": "D7HMPFluq_nT"
      }
    },
    {
      "cell_type": "code",
      "source": [
        "doc=nlp(text)"
      ],
      "metadata": {
        "id": "f_f-xIKmhdFv"
      },
      "execution_count": 7,
      "outputs": []
    },
    {
      "cell_type": "code",
      "source": [
        "import requests\n",
        "import folium\n",
        "from flair.data import Sentence\n",
        "from flair.models import SequenceTagger\n",
        "import pandas as pd\n",
        "import re\n",
        "from collections import Counter\n",
        "from collections import defaultdict\n",
        "\n",
        "names_df = pd.read_csv('/content/names.csv')\n",
        "\n",
        "# Préparation du DataFrame pour la recherche de lemmes (case-insensitive)\n",
        "names_df['attested_form_lower'] = names_df['attested_form'].str.lower()\n",
        "\n",
        "m = folium.Map(location=[37.9838, 23.7275], zoom_start=5)\n",
        "\n",
        "# Initialiser le compteur pour les entités PER\n",
        "per_counter = Counter()\n",
        "\n",
        "# Traitement de chaque phrase dans le document\n",
        "for sentence in tqdm(doc.sentences, desc=\"Processing sentences for ner counting\"):\n",
        "    sentence_text = sentence.text\n",
        "    ner_sentence = Sentence(sentence_text)\n",
        "    tagger.predict(ner_sentence)\n",
        "    tokens = sentence.words\n",
        "\n",
        "    # Compter les entités PER\n",
        "    for entity in ner_sentence.get_spans('ner'):\n",
        "        if entity.get_label('ner').value == 'PER':\n",
        "            per_counter[entity.text] += 1\n",
        "\n",
        "# Sélectionner les 20 noms de personnages les plus fréquents\n",
        "top_per_entities = {per[0] for per in per_counter.most_common(20)}\n",
        "\n",
        "# Analyse NER et extraction des lemmes, et ajout des marqueurs LOC\n",
        "loc_entities = []\n",
        "per_entities = []\n",
        "\n",
        "for sentence in tqdm(doc.sentences, desc=\"Processing sentences for loc pointing\"):\n",
        "    sentence_text = sentence.text\n",
        "    ner_sentence = Sentence(sentence_text)\n",
        "    tagger.predict(ner_sentence)\n",
        "    tokens = sentence.words\n",
        "\n",
        "    for entity in ner_sentence.get_spans('ner'):\n",
        "        if entity.get_label('ner').value == 'LOC':\n",
        "            for token in tokens:\n",
        "                lemma_lower = token.lemma.lower()\n",
        "                lemma_lower_escaped = re.escape(lemma_lower)\n",
        "                match = names_df[names_df['attested_form_lower'].str.contains(lemma_lower_escaped, na=False, regex=False)]\n",
        "                if not match.empty:\n",
        "                    pid = match.iloc[0]['place_id']\n",
        "                    response = requests.get(f\"http://pleiades.stoa.org/places/{pid}/json\")\n",
        "                    if response.status_code == 200:\n",
        "                        data = response.json()\n",
        "                        if data and 'reprPoint' in data and data['reprPoint'] is not None:\n",
        "                            loc_entities.append((data, entity))\n",
        "                            folium.Marker(\n",
        "                                location=[data['reprPoint'][1], data['reprPoint'][0]],\n",
        "                                popup=entity.text,\n",
        "                                icon=folium.Icon(color='red')\n",
        "                            ).add_to(m)\n",
        "                break\n",
        "        elif entity.get_label('ner').value == 'PER' and entity.text in top_per_entities:\n",
        "            per_entities.append((entity.text, entity.start_position, entity.end_position))\n",
        "\n",
        "# Ajout des marqueurs PER à proximité des marqueurs LOC pour les entités les plus fréquentes uniquement\n",
        "for loc_data, loc_entity in loc_entities:\n",
        "    loc_start, loc_end = loc_entity.start_position, loc_entity.end_position\n",
        "    for per_text, per_start, per_end in per_entities:\n",
        "        if abs(loc_start - per_start) <= 10 or abs(loc_end - per_end) <= 10:\n",
        "            folium.Marker(\n",
        "                location=[loc_data['reprPoint'][1], loc_data['reprPoint'][0]],\n",
        "                popup=per_text,\n",
        "                icon=folium.Icon(color='blue')\n",
        "            ).add_to(m)\n",
        "\n",
        "# Sauvegarde de la carte avec moins de marqueurs\n",
        "m.save(\"/content/map_ancient_places.html\")\n"
      ],
      "metadata": {
        "colab": {
          "base_uri": "https://localhost:8080/"
        },
        "id": "f7Y6CucVljo5",
        "outputId": "8c26d196-2565-4cac-f357-79f36b76609e"
      },
      "execution_count": 8,
      "outputs": [
        {
          "output_type": "stream",
          "name": "stderr",
          "text": [
            "Processing sentences for ner counting: 100%|██████████| 7476/7476 [02:20<00:00, 53.37it/s]\n",
            "Processing sentences for loc pointing: 100%|██████████| 7476/7476 [04:10<00:00, 29.84it/s]\n"
          ]
        }
      ]
    },
    {
      "cell_type": "code",
      "source": [
        "import requests\n",
        "import folium\n",
        "from flair.data import Sentence\n",
        "from flair.models import SequenceTagger\n",
        "import pandas as pd\n",
        "import re\n",
        "from collections import Counter\n",
        "from collections import defaultdict\n",
        "\n",
        "names_df = pd.read_csv('/content/names.csv')\n",
        "\n",
        "# Préparation du DataFrame pour la recherche de lemmes (case-insensitive)\n",
        "names_df['attested_form_lower'] = names_df['attested_form'].str.lower()\n",
        "\n",
        "m = folium.Map(location=[37.9838, 23.7275], zoom_start=5)\n",
        "\n",
        "# Initialiser le compteur pour les entités PER\n",
        "per_counter = Counter()\n",
        "\n",
        "# Traitement de chaque phrase dans le document\n",
        "for sentence in tqdm(doc.sentences, desc=\"Processing sentences for ner counting\"):\n",
        "    sentence_text = sentence.text\n",
        "    ner_sentence = Sentence(sentence_text)\n",
        "    tagger.predict(ner_sentence)\n",
        "    tokens = sentence.words\n",
        "\n",
        "    # Compter les entités PER\n",
        "    for entity in ner_sentence.get_spans('ner'):\n",
        "        if entity.get_label('ner').value == 'PER':\n",
        "            per_counter[entity.text] += 1\n",
        "\n",
        "# Sélectionner les 20 noms de personnages les plus fréquents\n",
        "top_per_entities = {per[0] for per in per_counter.most_common(20)}\n",
        "\n",
        "# Analyse NER et extraction des lemmes, et ajout des marqueurs LOC\n",
        "loc_entities = []\n",
        "per_entities = []\n",
        "\n",
        "for sentence in tqdm(doc.sentences, desc=\"Processing sentences for loc pointing\"):\n",
        "    sentence_text = sentence.text\n",
        "    ner_sentence = Sentence(sentence_text)\n",
        "    tagger.predict(ner_sentence)\n",
        "    tokens = sentence.words\n",
        "\n",
        "    for entity in ner_sentence.get_spans('ner'):\n",
        "        if entity.get_label('ner').value == 'LOC':\n",
        "            for token in tokens:\n",
        "                lemma_lower = token.lemma.lower()\n",
        "                lemma_lower_escaped = re.escape(lemma_lower)\n",
        "                match = names_df[names_df['attested_form_lower'].str.contains(lemma_lower_escaped, na=False, regex=False)]\n",
        "                if not match.empty:\n",
        "                    pid = match.iloc[0]['place_id']\n",
        "                    response = requests.get(f\"http://pleiades.stoa.org/places/{pid}/json\")\n",
        "                    if response.status_code == 200:\n",
        "                        data = response.json()\n",
        "                        if data and 'reprPoint' in data and data['reprPoint'] is not None:\n",
        "                            loc_entities.append((data, entity))\n",
        "                            folium.Marker(\n",
        "                                location=[data['reprPoint'][1], data['reprPoint'][0]],\n",
        "                                popup=entity.text,\n",
        "                                icon=folium.Icon(color='red')\n",
        "                            ).add_to(m)\n",
        "                break\n",
        "        elif entity.get_label('ner').value == 'PER' and entity.text in top_per_entities:\n",
        "            per_entities.append((entity.text, entity.start_position, entity.end_position))\n",
        "\n",
        "# Ajout des marqueurs PER à proximité des marqueurs LOC pour les entités les plus fréquentes uniquement\n",
        "loc_to_pers = defaultdict(list)\n",
        "\n",
        "for loc_data, loc_entity in loc_entities:\n",
        "    loc_start, loc_end = loc_entity.start_position, loc_entity.end_position\n",
        "    for per_text, per_start, per_end in per_entities:\n",
        "        if abs(loc_start - per_start) <= 50 or abs(loc_end - per_end) <= 50:\n",
        "            # Ajouter le texte de l'entité PER à l'ensemble associé au lieu LOC si le PER est parmi les 20 plus fréquents\n",
        "            if per_text in top_per_entities:\n",
        "                loc_to_pers[loc_entity.text].add(per_text)\n",
        "\n",
        "# Pour chaque lieu, trier les personnages par fréquence et conserver les trois premiers\n",
        "for loc, pers_set in loc_to_pers.items():\n",
        "    # Trier les personnages par fréquence décroissante et conserver les trois premiers\n",
        "    loc_to_pers[loc] = sorted(pers_set, key=lambda x: per_counter[x], reverse=True)[:3]\n",
        "\n",
        "# Création des marqueurs sur la carte avec les noms de personnages dans le popup\n",
        "for loc_data, loc_entity in loc_entities:\n",
        "    if 'reprPoint' in loc_data and loc_data['reprPoint'] is not None:\n",
        "        # Préparer le texte du popup pour inclure le lieu et les trois personnages les plus fréquents associés (sans répétition)\n",
        "        popup_text = f\"{loc_entity.text}: {', '.join(loc_to_pers[loc_entity.text])}\"\n",
        "        folium.Marker(\n",
        "            location=[loc_data['reprPoint'][1], loc_data['reprPoint'][0]],\n",
        "            popup=popup_text,\n",
        "            icon=folium.Icon(color='red')\n",
        "        ).add_to(m)\n",
        "\n",
        "# Sauvegarde de la carte\n",
        "m.save(\"/content/map_ancient_places3.html\")\n"
      ],
      "metadata": {
        "colab": {
          "base_uri": "https://localhost:8080/"
        },
        "id": "ST2t96JLO3H5",
        "outputId": "fc670092-9b26-4976-c83e-fbcf6272a425"
      },
      "execution_count": null,
      "outputs": [
        {
          "output_type": "stream",
          "name": "stderr",
          "text": [
            "Processing sentences for ner counting: 100%|██████████| 7476/7476 [02:21<00:00, 53.02it/s]\n",
            "Processing sentences for loc pointing:  32%|███▏      | 2387/7476 [01:37<10:03,  8.44it/s]"
          ]
        }
      ]
    },
    {
      "cell_type": "code",
      "source": [],
      "metadata": {
        "id": "QVtIqyE6osvE"
      },
      "execution_count": null,
      "outputs": []
    }
  ],
  "metadata": {
    "accelerator": "GPU",
    "colab": {
      "gpuType": "T4",
      "provenance": [],
      "authorship_tag": "ABX9TyPx3c4md7iHjmZnjrAcKKOR",
      "include_colab_link": true
    },
    "kernelspec": {
      "display_name": "Python 3",
      "name": "python3"
    },
    "language_info": {
      "name": "python"
    }
  },
  "nbformat": 4,
  "nbformat_minor": 0
}